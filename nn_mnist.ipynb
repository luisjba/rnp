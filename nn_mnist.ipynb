{
 "cells": [
  {
   "cell_type": "markdown",
   "metadata": {},
   "source": [
    "# MNIST Handwritten digits\n",
    "\n",
    "A neural network that recognized MNIST handwritten digits."
   ]
  },
  {
   "cell_type": "code",
   "execution_count": 1,
   "metadata": {},
   "outputs": [],
   "source": [
    "import tensorflow as tf\n",
    "import numpy as np\n",
    "from tensorflow import keras\n",
    "import matplotlib.pyplot as plt\n",
    "from nn_mnist_model import MNISTModel, run_tensorboard\n",
    "%matplotlib inline\n",
    "%load_ext tensorboard"
   ]
  },
  {
   "cell_type": "code",
   "execution_count": 2,
   "metadata": {},
   "outputs": [
    {
     "name": "stdout",
     "output_type": "stream",
     "text": [
      "TensorFlow version:2.7.0\n"
     ]
    }
   ],
   "source": [
    "print(\"TensorFlow version:{}\".format(tf.__version__))"
   ]
  },
  {
   "cell_type": "markdown",
   "metadata": {},
   "source": [
    "## MNist model instantiation\n",
    "\n",
    "We have prepared a Python class to easily load and manage the MNIST dataset and model."
   ]
  },
  {
   "cell_type": "code",
   "execution_count": 3,
   "metadata": {},
   "outputs": [
    {
     "name": "stdout",
     "output_type": "stream",
     "text": [
      "Metal device set to: Apple M1 Pro\n",
      "\n",
      "systemMemory: 32.00 GB\n",
      "maxCacheSize: 10.67 GB\n",
      "\n"
     ]
    },
    {
     "name": "stderr",
     "output_type": "stream",
     "text": [
      "2022-02-17 17:57:46.016406: I tensorflow/core/common_runtime/pluggable_device/pluggable_device_factory.cc:305] Could not identify NUMA node of platform GPU ID 0, defaulting to 0. Your kernel may not have been built with NUMA support.\n",
      "2022-02-17 17:57:46.016509: I tensorflow/core/common_runtime/pluggable_device/pluggable_device_factory.cc:271] Created TensorFlow device (/job:localhost/replica:0/task:0/device:GPU:0 with 0 MB memory) -> physical PluggableDevice (device: 0, name: METAL, pci bus id: <undefined>)\n"
     ]
    }
   ],
   "source": [
    "mnist_model = MNISTModel(\n",
    "    epochs=200,\n",
    "    batch_size=128\n",
    ")"
   ]
  },
  {
   "cell_type": "markdown",
   "metadata": {},
   "source": [
    "## Load the MNIST dataset\n",
    "\n",
    "The data is downloaded from the keras dataset. The dependent variable (y_train ans Y_test) is transformed as One-hot\n",
    "representation of the labels."
   ]
  },
  {
   "cell_type": "code",
   "execution_count": 4,
   "metadata": {},
   "outputs": [
    {
     "name": "stdout",
     "output_type": "stream",
     "text": [
      "60000 train samples. Each sample is a flaten vector of 784 elements\n",
      "10000 test samples\n",
      "10 Labels are One-hot encodded as columns\n"
     ]
    }
   ],
   "source": [
    "\n",
    "# load data\n",
    "mnist_model.load_data()\n",
    "print(\"{} train samples. Each sample is a flaten vector of {} elements\".format(mnist_model.X_train.shape[0],mnist_model.X_train.shape[1] ))\n",
    "print(\"{} test samples\".format(mnist_model.X_test.shape[0]))\n",
    "print(\"{} Labels are One-hot encodded as columns\".format(mnist_model.Y_train.shape[1]))"
   ]
  },
  {
   "cell_type": "markdown",
   "metadata": {},
   "source": [
    "## Print some sample images from the MNIST dataset\n",
    "\n",
    "The data is loaded  and splited in `(mnist_model.X_train, mnist_model.Y_train),` for model traning and \n",
    "`(mnist_model.X_test, mnist_model.Y_test)` for model validation.\n",
    "\n",
    "With the `mnist_model.get_sample_images()` function we can get a random sample of images from the train data."
   ]
  },
  {
   "cell_type": "code",
   "execution_count": 5,
   "metadata": {},
   "outputs": [
    {
     "data": {
      "image/png": "[encoded data removed]",
      "text/plain": [
       "<Figure size 864x864 with 9 Axes>"
      ]
     },
     "metadata": {
      "needs_background": "light"
     },
     "output_type": "display_data"
    }
   ],
   "source": [
    "fig, axs = mnist_model.get_sample_images()"
   ]
  },
  {
   "cell_type": "markdown",
   "metadata": {},
   "source": [
    "## Build the model\n",
    "\n",
    "With no hidden layers, the model by default will be uilt with one Dense layer with 10 units, connected to the input layer (with shape of 784) and  `softmax` activation."
   ]
  },
  {
   "cell_type": "code",
   "execution_count": 6,
   "metadata": {},
   "outputs": [
    {
     "name": "stdout",
     "output_type": "stream",
     "text": [
      "Model: \"sequential_1\"\n",
      "_________________________________________________________________\n",
      " Layer (type)                Output Shape              Param #   \n",
      "=================================================================\n",
      " dense_layer (Dense)         (None, 10)                7850      \n",
      "                                                                 \n",
      "=================================================================\n",
      "Total params: 7,850\n",
      "Trainable params: 7,850\n",
      "Non-trainable params: 0\n",
      "_________________________________________________________________\n"
     ]
    }
   ],
   "source": [
    "# Build the model.\n",
    "mnist_model.build()\n",
    "# Summary of the model\n",
    "mnist_model.summary()"
   ]
  },
  {
   "cell_type": "markdown",
   "metadata": {},
   "source": [
    "## Cpmpile the Model\n",
    "\n",
    "By default, the optimizer is **SGD**, loss `categorical_crossentropy` and metrics `[accuracy]`."
   ]
  },
  {
   "cell_type": "code",
   "execution_count": 7,
   "metadata": {},
   "outputs": [],
   "source": [
    "# Compiling the model.\n",
    "mnist_model.compile()"
   ]
  },
  {
   "cell_type": "markdown",
   "metadata": {},
   "source": [
    "## Train Mode"
   ]
  },
  {
   "cell_type": "code",
   "execution_count": 9,
   "metadata": {},
   "outputs": [
    {
     "name": "stderr",
     "output_type": "stream",
     "text": [
      "2022-02-17 17:59:07.682961: W tensorflow/core/platform/profile_utils/cpu_utils.cc:128] Failed to get CPU frequency: 0 Hz\n",
      "2022-02-17 17:59:07.848911: I tensorflow/core/grappler/optimizers/custom_graph_optimizer_registry.cc:112] Plugin optimizer for device_type GPU is enabled.\n"
     ]
    },
    {
     "name": "stdout",
     "output_type": "stream",
     "text": [
      "Epoch 1/200\n",
      "464/469 [============================>.] - ETA: 0s - loss: 1.2721 - accuracy: 0.7013"
     ]
    },
    {
     "name": "stderr",
     "output_type": "stream",
     "text": [
      "2022-02-17 17:59:11.501211: I tensorflow/core/grappler/optimizers/custom_graph_optimizer_registry.cc:112] Plugin optimizer for device_type GPU is enabled.\n"
     ]
    },
    {
     "name": "stdout",
     "output_type": "stream",
     "text": [
      "469/469 [==============================] - 4s 9ms/step - loss: 1.2681 - accuracy: 0.7023 - val_loss: 0.8102 - val_accuracy: 0.8292\n",
      "Epoch 2/200\n",
      "469/469 [==============================] - 4s 8ms/step - loss: 0.7162 - accuracy: 0.8376 - val_loss: 0.6093 - val_accuracy: 0.8562\n",
      "Epoch 3/200\n",
      "469/469 [==============================] - 3s 7ms/step - loss: 0.5889 - accuracy: 0.8570 - val_loss: 0.5279 - val_accuracy: 0.8724\n",
      "Epoch 4/200\n",
      "469/469 [==============================] - 4s 7ms/step - loss: 0.5274 - accuracy: 0.8676 - val_loss: 0.4822 - val_accuracy: 0.8796\n",
      "Epoch 5/200\n",
      "469/469 [==============================] - 3s 7ms/step - loss: 0.4897 - accuracy: 0.8741 - val_loss: 0.4524 - val_accuracy: 0.8848\n",
      "Epoch 6/200\n",
      "469/469 [==============================] - 4s 8ms/step - loss: 0.4637 - accuracy: 0.8789 - val_loss: 0.4309 - val_accuracy: 0.8890\n",
      "Epoch 7/200\n",
      "469/469 [==============================] - 4s 8ms/step - loss: 0.4444 - accuracy: 0.8821 - val_loss: 0.4146 - val_accuracy: 0.8915\n",
      "Epoch 8/200\n",
      "469/469 [==============================] - 4s 8ms/step - loss: 0.4294 - accuracy: 0.8853 - val_loss: 0.4015 - val_accuracy: 0.8945\n",
      "Epoch 9/200\n",
      "469/469 [==============================] - 4s 8ms/step - loss: 0.4172 - accuracy: 0.8878 - val_loss: 0.3912 - val_accuracy: 0.8966\n",
      "Epoch 10/200\n",
      "469/469 [==============================] - 4s 8ms/step - loss: 0.4071 - accuracy: 0.8905 - val_loss: 0.3822 - val_accuracy: 0.8993\n",
      "Epoch 11/200\n",
      "469/469 [==============================] - 4s 8ms/step - loss: 0.3985 - accuracy: 0.8918 - val_loss: 0.3748 - val_accuracy: 0.8996\n",
      "Epoch 12/200\n",
      "469/469 [==============================] - 4s 8ms/step - loss: 0.3911 - accuracy: 0.8934 - val_loss: 0.3683 - val_accuracy: 0.9009\n",
      "Epoch 13/200\n",
      "469/469 [==============================] - 4s 8ms/step - loss: 0.3847 - accuracy: 0.8951 - val_loss: 0.3627 - val_accuracy: 0.9016\n",
      "Epoch 14/200\n",
      "469/469 [==============================] - 3s 7ms/step - loss: 0.3790 - accuracy: 0.8962 - val_loss: 0.3574 - val_accuracy: 0.9019\n",
      "Epoch 15/200\n",
      "469/469 [==============================] - 4s 8ms/step - loss: 0.3739 - accuracy: 0.8976 - val_loss: 0.3534 - val_accuracy: 0.9038\n",
      "Epoch 16/200\n",
      "469/469 [==============================] - 4s 8ms/step - loss: 0.3694 - accuracy: 0.8987 - val_loss: 0.3492 - val_accuracy: 0.9041\n",
      "Epoch 17/200\n",
      "469/469 [==============================] - 4s 8ms/step - loss: 0.3652 - accuracy: 0.8995 - val_loss: 0.3458 - val_accuracy: 0.9056\n",
      "Epoch 18/200\n",
      "469/469 [==============================] - 4s 8ms/step - loss: 0.3614 - accuracy: 0.9005 - val_loss: 0.3424 - val_accuracy: 0.9056\n",
      "Epoch 19/200\n",
      "469/469 [==============================] - 4s 8ms/step - loss: 0.3580 - accuracy: 0.9012 - val_loss: 0.3394 - val_accuracy: 0.9070\n",
      "Epoch 20/200\n",
      "469/469 [==============================] - 4s 8ms/step - loss: 0.3548 - accuracy: 0.9019 - val_loss: 0.3367 - val_accuracy: 0.9077\n",
      "Epoch 21/200\n",
      "469/469 [==============================] - 4s 8ms/step - loss: 0.3518 - accuracy: 0.9026 - val_loss: 0.3342 - val_accuracy: 0.9084\n",
      "Epoch 22/200\n",
      "469/469 [==============================] - 4s 8ms/step - loss: 0.3490 - accuracy: 0.9035 - val_loss: 0.3316 - val_accuracy: 0.9092\n",
      "Epoch 23/200\n",
      "469/469 [==============================] - 4s 8ms/step - loss: 0.3465 - accuracy: 0.9040 - val_loss: 0.3295 - val_accuracy: 0.9092\n",
      "Epoch 24/200\n",
      "469/469 [==============================] - 3s 7ms/step - loss: 0.3441 - accuracy: 0.9044 - val_loss: 0.3274 - val_accuracy: 0.9098\n",
      "Epoch 25/200\n",
      "469/469 [==============================] - 3s 7ms/step - loss: 0.3419 - accuracy: 0.9049 - val_loss: 0.3254 - val_accuracy: 0.9103\n",
      "Epoch 26/200\n",
      "469/469 [==============================] - 3s 7ms/step - loss: 0.3397 - accuracy: 0.9057 - val_loss: 0.3239 - val_accuracy: 0.9103\n",
      "Epoch 27/200\n",
      "469/469 [==============================] - 4s 8ms/step - loss: 0.3378 - accuracy: 0.9061 - val_loss: 0.3222 - val_accuracy: 0.9108\n",
      "Epoch 28/200\n",
      "469/469 [==============================] - 4s 8ms/step - loss: 0.3358 - accuracy: 0.9066 - val_loss: 0.3206 - val_accuracy: 0.9111\n",
      "Epoch 29/200\n",
      "469/469 [==============================] - 4s 8ms/step - loss: 0.3341 - accuracy: 0.9072 - val_loss: 0.3189 - val_accuracy: 0.9120\n",
      "Epoch 30/200\n",
      "469/469 [==============================] - 4s 8ms/step - loss: 0.3323 - accuracy: 0.9078 - val_loss: 0.3175 - val_accuracy: 0.9128\n",
      "Epoch 31/200\n",
      "469/469 [==============================] - 4s 8ms/step - loss: 0.3307 - accuracy: 0.9084 - val_loss: 0.3163 - val_accuracy: 0.9130\n",
      "Epoch 32/200\n",
      "469/469 [==============================] - 3s 7ms/step - loss: 0.3292 - accuracy: 0.9083 - val_loss: 0.3150 - val_accuracy: 0.9131\n",
      "Epoch 33/200\n",
      "469/469 [==============================] - 3s 7ms/step - loss: 0.3277 - accuracy: 0.9089 - val_loss: 0.3138 - val_accuracy: 0.9133\n",
      "Epoch 34/200\n",
      "469/469 [==============================] - 4s 8ms/step - loss: 0.3263 - accuracy: 0.9094 - val_loss: 0.3127 - val_accuracy: 0.9145\n",
      "Epoch 35/200\n",
      "469/469 [==============================] - 3s 7ms/step - loss: 0.3250 - accuracy: 0.9098 - val_loss: 0.3115 - val_accuracy: 0.9144\n",
      "Epoch 36/200\n",
      "469/469 [==============================] - 4s 8ms/step - loss: 0.3237 - accuracy: 0.9098 - val_loss: 0.3102 - val_accuracy: 0.9148\n",
      "Epoch 37/200\n",
      "469/469 [==============================] - 4s 9ms/step - loss: 0.3225 - accuracy: 0.9104 - val_loss: 0.3093 - val_accuracy: 0.9142\n",
      "Epoch 38/200\n",
      "469/469 [==============================] - 4s 8ms/step - loss: 0.3213 - accuracy: 0.9107 - val_loss: 0.3083 - val_accuracy: 0.9151\n",
      "Epoch 39/200\n",
      "469/469 [==============================] - 4s 8ms/step - loss: 0.3202 - accuracy: 0.9108 - val_loss: 0.3074 - val_accuracy: 0.9156\n",
      "Epoch 40/200\n",
      "469/469 [==============================] - 4s 9ms/step - loss: 0.3190 - accuracy: 0.9111 - val_loss: 0.3065 - val_accuracy: 0.9148\n",
      "Epoch 41/200\n",
      "469/469 [==============================] - 4s 8ms/step - loss: 0.3180 - accuracy: 0.9116 - val_loss: 0.3058 - val_accuracy: 0.9150\n",
      "Epoch 42/200\n",
      "469/469 [==============================] - 4s 8ms/step - loss: 0.3170 - accuracy: 0.9119 - val_loss: 0.3051 - val_accuracy: 0.9157\n",
      "Epoch 43/200\n",
      "469/469 [==============================] - 4s 8ms/step - loss: 0.3160 - accuracy: 0.9122 - val_loss: 0.3042 - val_accuracy: 0.9158\n",
      "Epoch 44/200\n",
      "469/469 [==============================] - 4s 8ms/step - loss: 0.3150 - accuracy: 0.9122 - val_loss: 0.3034 - val_accuracy: 0.9157\n",
      "Epoch 45/200\n",
      "469/469 [==============================] - 4s 7ms/step - loss: 0.3141 - accuracy: 0.9124 - val_loss: 0.3026 - val_accuracy: 0.9163\n",
      "Epoch 46/200\n",
      "469/469 [==============================] - 3s 7ms/step - loss: 0.3132 - accuracy: 0.9125 - val_loss: 0.3019 - val_accuracy: 0.9162\n",
      "Epoch 47/200\n",
      "469/469 [==============================] - 4s 8ms/step - loss: 0.3123 - accuracy: 0.9129 - val_loss: 0.3014 - val_accuracy: 0.9161\n",
      "Epoch 48/200\n",
      "469/469 [==============================] - 4s 7ms/step - loss: 0.3116 - accuracy: 0.9130 - val_loss: 0.3005 - val_accuracy: 0.9166\n",
      "Epoch 49/200\n",
      "469/469 [==============================] - 4s 7ms/step - loss: 0.3108 - accuracy: 0.9135 - val_loss: 0.3001 - val_accuracy: 0.9168\n",
      "Epoch 50/200\n",
      "469/469 [==============================] - 4s 8ms/step - loss: 0.3099 - accuracy: 0.9136 - val_loss: 0.2995 - val_accuracy: 0.9165\n",
      "Epoch 51/200\n",
      "469/469 [==============================] - 4s 7ms/step - loss: 0.3092 - accuracy: 0.9141 - val_loss: 0.2990 - val_accuracy: 0.9171\n",
      "Epoch 52/200\n",
      "469/469 [==============================] - 4s 7ms/step - loss: 0.3084 - accuracy: 0.9142 - val_loss: 0.2980 - val_accuracy: 0.9173\n",
      "Epoch 53/200\n",
      "469/469 [==============================] - 3s 7ms/step - loss: 0.3077 - accuracy: 0.9144 - val_loss: 0.2978 - val_accuracy: 0.9179\n",
      "Epoch 54/200\n",
      "469/469 [==============================] - 3s 7ms/step - loss: 0.3070 - accuracy: 0.9146 - val_loss: 0.2972 - val_accuracy: 0.9173\n",
      "Epoch 55/200\n",
      "469/469 [==============================] - 4s 7ms/step - loss: 0.3064 - accuracy: 0.9145 - val_loss: 0.2968 - val_accuracy: 0.9179\n",
      "Epoch 56/200\n",
      "469/469 [==============================] - 3s 7ms/step - loss: 0.3057 - accuracy: 0.9150 - val_loss: 0.2963 - val_accuracy: 0.9170\n",
      "Epoch 57/200\n",
      "469/469 [==============================] - 3s 7ms/step - loss: 0.3050 - accuracy: 0.9149 - val_loss: 0.2957 - val_accuracy: 0.9176\n",
      "Epoch 58/200\n",
      "469/469 [==============================] - 4s 8ms/step - loss: 0.3044 - accuracy: 0.9151 - val_loss: 0.2953 - val_accuracy: 0.9181\n",
      "Epoch 59/200\n",
      "469/469 [==============================] - 3s 7ms/step - loss: 0.3038 - accuracy: 0.9154 - val_loss: 0.2948 - val_accuracy: 0.9174\n",
      "Epoch 60/200\n",
      "469/469 [==============================] - 4s 8ms/step - loss: 0.3032 - accuracy: 0.9156 - val_loss: 0.2944 - val_accuracy: 0.9182\n",
      "Epoch 61/200\n",
      "469/469 [==============================] - 3s 7ms/step - loss: 0.3026 - accuracy: 0.9158 - val_loss: 0.2940 - val_accuracy: 0.9175\n",
      "Epoch 62/200\n",
      "469/469 [==============================] - 4s 7ms/step - loss: 0.3021 - accuracy: 0.9160 - val_loss: 0.2933 - val_accuracy: 0.9177\n",
      "Epoch 63/200\n",
      "469/469 [==============================] - 4s 8ms/step - loss: 0.3015 - accuracy: 0.9162 - val_loss: 0.2929 - val_accuracy: 0.9179\n",
      "Epoch 64/200\n",
      "469/469 [==============================] - 4s 8ms/step - loss: 0.3010 - accuracy: 0.9161 - val_loss: 0.2928 - val_accuracy: 0.9180\n",
      "Epoch 65/200\n",
      "469/469 [==============================] - 4s 8ms/step - loss: 0.3004 - accuracy: 0.9166 - val_loss: 0.2925 - val_accuracy: 0.9170\n",
      "Epoch 66/200\n",
      "469/469 [==============================] - 4s 8ms/step - loss: 0.2999 - accuracy: 0.9168 - val_loss: 0.2920 - val_accuracy: 0.9179\n",
      "Epoch 67/200\n",
      "469/469 [==============================] - 4s 8ms/step - loss: 0.2994 - accuracy: 0.9165 - val_loss: 0.2914 - val_accuracy: 0.9178\n",
      "Epoch 68/200\n",
      "469/469 [==============================] - 4s 8ms/step - loss: 0.2989 - accuracy: 0.9166 - val_loss: 0.2911 - val_accuracy: 0.9182\n",
      "Epoch 69/200\n",
      "469/469 [==============================] - 4s 8ms/step - loss: 0.2984 - accuracy: 0.9166 - val_loss: 0.2909 - val_accuracy: 0.9181\n",
      "Epoch 70/200\n",
      "469/469 [==============================] - 4s 8ms/step - loss: 0.2979 - accuracy: 0.9171 - val_loss: 0.2905 - val_accuracy: 0.9182\n",
      "Epoch 71/200\n",
      "469/469 [==============================] - 4s 8ms/step - loss: 0.2975 - accuracy: 0.9172 - val_loss: 0.2900 - val_accuracy: 0.9189\n",
      "Epoch 72/200\n",
      "469/469 [==============================] - 4s 8ms/step - loss: 0.2970 - accuracy: 0.9174 - val_loss: 0.2899 - val_accuracy: 0.9190\n",
      "Epoch 73/200\n",
      "469/469 [==============================] - 4s 8ms/step - loss: 0.2965 - accuracy: 0.9175 - val_loss: 0.2897 - val_accuracy: 0.9191\n",
      "Epoch 74/200\n",
      "469/469 [==============================] - 4s 8ms/step - loss: 0.2961 - accuracy: 0.9174 - val_loss: 0.2892 - val_accuracy: 0.9192\n",
      "Epoch 75/200\n",
      "469/469 [==============================] - 4s 8ms/step - loss: 0.2957 - accuracy: 0.9177 - val_loss: 0.2887 - val_accuracy: 0.9191\n",
      "Epoch 76/200\n",
      "469/469 [==============================] - 4s 8ms/step - loss: 0.2953 - accuracy: 0.9179 - val_loss: 0.2886 - val_accuracy: 0.9192\n",
      "Epoch 77/200\n",
      "469/469 [==============================] - 4s 8ms/step - loss: 0.2949 - accuracy: 0.9181 - val_loss: 0.2880 - val_accuracy: 0.9196\n",
      "Epoch 78/200\n",
      "469/469 [==============================] - 4s 8ms/step - loss: 0.2944 - accuracy: 0.9180 - val_loss: 0.2881 - val_accuracy: 0.9192\n",
      "Epoch 79/200\n",
      "469/469 [==============================] - 4s 8ms/step - loss: 0.2940 - accuracy: 0.9183 - val_loss: 0.2876 - val_accuracy: 0.9200\n",
      "Epoch 80/200\n",
      "469/469 [==============================] - 4s 8ms/step - loss: 0.2937 - accuracy: 0.9184 - val_loss: 0.2876 - val_accuracy: 0.9195\n",
      "Epoch 81/200\n",
      "469/469 [==============================] - 4s 8ms/step - loss: 0.2933 - accuracy: 0.9185 - val_loss: 0.2873 - val_accuracy: 0.9197\n",
      "Epoch 82/200\n",
      "469/469 [==============================] - 4s 8ms/step - loss: 0.2929 - accuracy: 0.9186 - val_loss: 0.2872 - val_accuracy: 0.9193\n",
      "Epoch 83/200\n",
      "469/469 [==============================] - 4s 8ms/step - loss: 0.2926 - accuracy: 0.9184 - val_loss: 0.2867 - val_accuracy: 0.9194\n",
      "Epoch 84/200\n",
      "469/469 [==============================] - 4s 8ms/step - loss: 0.2922 - accuracy: 0.9188 - val_loss: 0.2864 - val_accuracy: 0.9203\n",
      "Epoch 85/200\n",
      "469/469 [==============================] - 4s 8ms/step - loss: 0.2918 - accuracy: 0.9191 - val_loss: 0.2861 - val_accuracy: 0.9197\n",
      "Epoch 86/200\n",
      "469/469 [==============================] - 4s 8ms/step - loss: 0.2914 - accuracy: 0.9187 - val_loss: 0.2857 - val_accuracy: 0.9200\n",
      "Epoch 87/200\n",
      "469/469 [==============================] - 4s 8ms/step - loss: 0.2911 - accuracy: 0.9191 - val_loss: 0.2856 - val_accuracy: 0.9202\n",
      "Epoch 88/200\n",
      "469/469 [==============================] - 4s 8ms/step - loss: 0.2908 - accuracy: 0.9190 - val_loss: 0.2856 - val_accuracy: 0.9204\n",
      "Epoch 89/200\n",
      "469/469 [==============================] - 4s 8ms/step - loss: 0.2904 - accuracy: 0.9193 - val_loss: 0.2852 - val_accuracy: 0.9207\n",
      "Epoch 90/200\n",
      "469/469 [==============================] - 4s 8ms/step - loss: 0.2901 - accuracy: 0.9194 - val_loss: 0.2851 - val_accuracy: 0.9199\n",
      "Epoch 91/200\n",
      "469/469 [==============================] - 4s 8ms/step - loss: 0.2898 - accuracy: 0.9194 - val_loss: 0.2848 - val_accuracy: 0.9200\n",
      "Epoch 92/200\n",
      "469/469 [==============================] - 4s 8ms/step - loss: 0.2895 - accuracy: 0.9197 - val_loss: 0.2845 - val_accuracy: 0.9199\n",
      "Epoch 93/200\n",
      "469/469 [==============================] - 4s 8ms/step - loss: 0.2891 - accuracy: 0.9196 - val_loss: 0.2841 - val_accuracy: 0.9198\n",
      "Epoch 94/200\n",
      "469/469 [==============================] - 4s 8ms/step - loss: 0.2888 - accuracy: 0.9199 - val_loss: 0.2841 - val_accuracy: 0.9202\n",
      "Epoch 95/200\n",
      "469/469 [==============================] - 4s 8ms/step - loss: 0.2885 - accuracy: 0.9201 - val_loss: 0.2839 - val_accuracy: 0.9207\n",
      "Epoch 96/200\n",
      "469/469 [==============================] - 4s 8ms/step - loss: 0.2882 - accuracy: 0.9199 - val_loss: 0.2838 - val_accuracy: 0.9204\n",
      "Epoch 97/200\n",
      "469/469 [==============================] - 4s 8ms/step - loss: 0.2879 - accuracy: 0.9200 - val_loss: 0.2837 - val_accuracy: 0.9203\n",
      "Epoch 98/200\n",
      "469/469 [==============================] - 4s 8ms/step - loss: 0.2876 - accuracy: 0.9202 - val_loss: 0.2832 - val_accuracy: 0.9204\n",
      "Epoch 99/200\n",
      "469/469 [==============================] - 4s 8ms/step - loss: 0.2874 - accuracy: 0.9200 - val_loss: 0.2832 - val_accuracy: 0.9198\n",
      "Epoch 100/200\n",
      "469/469 [==============================] - 4s 8ms/step - loss: 0.2870 - accuracy: 0.9205 - val_loss: 0.2831 - val_accuracy: 0.9196\n",
      "Epoch 101/200\n",
      "469/469 [==============================] - 4s 8ms/step - loss: 0.2868 - accuracy: 0.9203 - val_loss: 0.2829 - val_accuracy: 0.9194\n",
      "Epoch 102/200\n",
      "469/469 [==============================] - 4s 8ms/step - loss: 0.2865 - accuracy: 0.9205 - val_loss: 0.2827 - val_accuracy: 0.9197\n",
      "Epoch 103/200\n",
      "469/469 [==============================] - 4s 8ms/step - loss: 0.2862 - accuracy: 0.9203 - val_loss: 0.2825 - val_accuracy: 0.9207\n",
      "Epoch 104/200\n",
      "469/469 [==============================] - 4s 8ms/step - loss: 0.2860 - accuracy: 0.9204 - val_loss: 0.2824 - val_accuracy: 0.9203\n",
      "Epoch 105/200\n",
      "469/469 [==============================] - 4s 8ms/step - loss: 0.2857 - accuracy: 0.9204 - val_loss: 0.2821 - val_accuracy: 0.9200\n",
      "Epoch 106/200\n",
      "469/469 [==============================] - 4s 8ms/step - loss: 0.2854 - accuracy: 0.9207 - val_loss: 0.2819 - val_accuracy: 0.9199\n",
      "Epoch 107/200\n",
      "469/469 [==============================] - 4s 8ms/step - loss: 0.2852 - accuracy: 0.9207 - val_loss: 0.2818 - val_accuracy: 0.9208\n",
      "Epoch 108/200\n",
      "469/469 [==============================] - 4s 8ms/step - loss: 0.2849 - accuracy: 0.9211 - val_loss: 0.2815 - val_accuracy: 0.9203\n",
      "Epoch 109/200\n",
      "469/469 [==============================] - 4s 8ms/step - loss: 0.2847 - accuracy: 0.9210 - val_loss: 0.2814 - val_accuracy: 0.9209\n",
      "Epoch 110/200\n",
      "469/469 [==============================] - 4s 8ms/step - loss: 0.2844 - accuracy: 0.9212 - val_loss: 0.2811 - val_accuracy: 0.9208\n",
      "Epoch 111/200\n",
      "469/469 [==============================] - 4s 8ms/step - loss: 0.2842 - accuracy: 0.9212 - val_loss: 0.2811 - val_accuracy: 0.9205\n",
      "Epoch 112/200\n",
      "469/469 [==============================] - 4s 8ms/step - loss: 0.2839 - accuracy: 0.9213 - val_loss: 0.2809 - val_accuracy: 0.9213\n",
      "Epoch 113/200\n",
      "469/469 [==============================] - 4s 8ms/step - loss: 0.2837 - accuracy: 0.9214 - val_loss: 0.2806 - val_accuracy: 0.9214\n",
      "Epoch 114/200\n",
      "469/469 [==============================] - 4s 8ms/step - loss: 0.2835 - accuracy: 0.9215 - val_loss: 0.2805 - val_accuracy: 0.9205\n",
      "Epoch 115/200\n",
      "469/469 [==============================] - 4s 8ms/step - loss: 0.2832 - accuracy: 0.9215 - val_loss: 0.2803 - val_accuracy: 0.9211\n",
      "Epoch 116/200\n",
      "469/469 [==============================] - 4s 8ms/step - loss: 0.2830 - accuracy: 0.9215 - val_loss: 0.2805 - val_accuracy: 0.9209\n",
      "Epoch 117/200\n",
      "469/469 [==============================] - 4s 8ms/step - loss: 0.2828 - accuracy: 0.9217 - val_loss: 0.2800 - val_accuracy: 0.9210\n",
      "Epoch 118/200\n",
      "469/469 [==============================] - 4s 8ms/step - loss: 0.2826 - accuracy: 0.9216 - val_loss: 0.2799 - val_accuracy: 0.9210\n",
      "Epoch 119/200\n",
      "469/469 [==============================] - 4s 8ms/step - loss: 0.2823 - accuracy: 0.9216 - val_loss: 0.2800 - val_accuracy: 0.9214\n",
      "Epoch 120/200\n",
      "469/469 [==============================] - 4s 9ms/step - loss: 0.2821 - accuracy: 0.9218 - val_loss: 0.2797 - val_accuracy: 0.9207\n",
      "Epoch 121/200\n",
      "469/469 [==============================] - 4s 8ms/step - loss: 0.2819 - accuracy: 0.9217 - val_loss: 0.2796 - val_accuracy: 0.9209\n",
      "Epoch 122/200\n",
      "469/469 [==============================] - 4s 8ms/step - loss: 0.2817 - accuracy: 0.9219 - val_loss: 0.2796 - val_accuracy: 0.9216\n",
      "Epoch 123/200\n",
      "469/469 [==============================] - 4s 8ms/step - loss: 0.2814 - accuracy: 0.9216 - val_loss: 0.2796 - val_accuracy: 0.9213\n",
      "Epoch 124/200\n",
      "469/469 [==============================] - 4s 9ms/step - loss: 0.2813 - accuracy: 0.9219 - val_loss: 0.2793 - val_accuracy: 0.9217\n",
      "Epoch 125/200\n",
      "469/469 [==============================] - 4s 9ms/step - loss: 0.2810 - accuracy: 0.9221 - val_loss: 0.2791 - val_accuracy: 0.9211\n",
      "Epoch 126/200\n",
      "469/469 [==============================] - 4s 8ms/step - loss: 0.2809 - accuracy: 0.9220 - val_loss: 0.2790 - val_accuracy: 0.9217\n",
      "Epoch 127/200\n",
      "469/469 [==============================] - 4s 8ms/step - loss: 0.2807 - accuracy: 0.9221 - val_loss: 0.2788 - val_accuracy: 0.9211\n",
      "Epoch 128/200\n",
      "469/469 [==============================] - 4s 8ms/step - loss: 0.2805 - accuracy: 0.9220 - val_loss: 0.2788 - val_accuracy: 0.9214\n",
      "Epoch 129/200\n",
      "469/469 [==============================] - 4s 8ms/step - loss: 0.2803 - accuracy: 0.9225 - val_loss: 0.2786 - val_accuracy: 0.9219\n",
      "Epoch 130/200\n",
      "469/469 [==============================] - 4s 8ms/step - loss: 0.2801 - accuracy: 0.9223 - val_loss: 0.2787 - val_accuracy: 0.9219\n",
      "Epoch 131/200\n",
      "469/469 [==============================] - 4s 8ms/step - loss: 0.2799 - accuracy: 0.9227 - val_loss: 0.2785 - val_accuracy: 0.9215\n",
      "Epoch 132/200\n",
      "469/469 [==============================] - 4s 8ms/step - loss: 0.2797 - accuracy: 0.9227 - val_loss: 0.2782 - val_accuracy: 0.9221\n",
      "Epoch 133/200\n",
      "469/469 [==============================] - 4s 8ms/step - loss: 0.2795 - accuracy: 0.9223 - val_loss: 0.2782 - val_accuracy: 0.9220\n",
      "Epoch 134/200\n",
      "469/469 [==============================] - 4s 8ms/step - loss: 0.2793 - accuracy: 0.9226 - val_loss: 0.2781 - val_accuracy: 0.9216\n",
      "Epoch 135/200\n",
      "469/469 [==============================] - 4s 8ms/step - loss: 0.2791 - accuracy: 0.9227 - val_loss: 0.2781 - val_accuracy: 0.9219\n",
      "Epoch 136/200\n",
      "469/469 [==============================] - 4s 8ms/step - loss: 0.2789 - accuracy: 0.9230 - val_loss: 0.2778 - val_accuracy: 0.9216\n",
      "Epoch 137/200\n",
      "469/469 [==============================] - 4s 8ms/step - loss: 0.2787 - accuracy: 0.9230 - val_loss: 0.2778 - val_accuracy: 0.9219\n",
      "Epoch 138/200\n",
      "469/469 [==============================] - 4s 8ms/step - loss: 0.2786 - accuracy: 0.9228 - val_loss: 0.2777 - val_accuracy: 0.9218\n",
      "Epoch 139/200\n",
      "469/469 [==============================] - 4s 8ms/step - loss: 0.2784 - accuracy: 0.9230 - val_loss: 0.2776 - val_accuracy: 0.9221\n",
      "Epoch 140/200\n",
      "469/469 [==============================] - 4s 8ms/step - loss: 0.2782 - accuracy: 0.9229 - val_loss: 0.2776 - val_accuracy: 0.9218\n",
      "Epoch 141/200\n",
      "469/469 [==============================] - 4s 8ms/step - loss: 0.2780 - accuracy: 0.9233 - val_loss: 0.2773 - val_accuracy: 0.9223\n",
      "Epoch 142/200\n",
      "469/469 [==============================] - 4s 8ms/step - loss: 0.2779 - accuracy: 0.9229 - val_loss: 0.2772 - val_accuracy: 0.9222\n",
      "Epoch 143/200\n",
      "469/469 [==============================] - 4s 8ms/step - loss: 0.2777 - accuracy: 0.9232 - val_loss: 0.2772 - val_accuracy: 0.9221\n",
      "Epoch 144/200\n",
      "469/469 [==============================] - 4s 8ms/step - loss: 0.2775 - accuracy: 0.9231 - val_loss: 0.2770 - val_accuracy: 0.9220\n",
      "Epoch 145/200\n",
      "469/469 [==============================] - 4s 8ms/step - loss: 0.2774 - accuracy: 0.9232 - val_loss: 0.2769 - val_accuracy: 0.9222\n",
      "Epoch 146/200\n",
      "469/469 [==============================] - 4s 8ms/step - loss: 0.2772 - accuracy: 0.9232 - val_loss: 0.2770 - val_accuracy: 0.9221\n",
      "Epoch 147/200\n",
      "469/469 [==============================] - 4s 8ms/step - loss: 0.2770 - accuracy: 0.9231 - val_loss: 0.2767 - val_accuracy: 0.9217\n",
      "Epoch 148/200\n",
      "469/469 [==============================] - 4s 8ms/step - loss: 0.2768 - accuracy: 0.9232 - val_loss: 0.2766 - val_accuracy: 0.9223\n",
      "Epoch 149/200\n",
      "469/469 [==============================] - 4s 8ms/step - loss: 0.2767 - accuracy: 0.9234 - val_loss: 0.2765 - val_accuracy: 0.9219\n",
      "Epoch 150/200\n",
      "469/469 [==============================] - 4s 8ms/step - loss: 0.2765 - accuracy: 0.9233 - val_loss: 0.2763 - val_accuracy: 0.9222\n",
      "Epoch 151/200\n",
      "469/469 [==============================] - 4s 8ms/step - loss: 0.2764 - accuracy: 0.9237 - val_loss: 0.2764 - val_accuracy: 0.9222\n",
      "Epoch 152/200\n",
      "469/469 [==============================] - 4s 9ms/step - loss: 0.2762 - accuracy: 0.9236 - val_loss: 0.2763 - val_accuracy: 0.9225\n",
      "Epoch 153/200\n",
      "469/469 [==============================] - 4s 8ms/step - loss: 0.2760 - accuracy: 0.9236 - val_loss: 0.2762 - val_accuracy: 0.9222\n",
      "Epoch 154/200\n",
      "469/469 [==============================] - 4s 8ms/step - loss: 0.2759 - accuracy: 0.9239 - val_loss: 0.2761 - val_accuracy: 0.9229\n",
      "Epoch 155/200\n",
      "469/469 [==============================] - 4s 8ms/step - loss: 0.2758 - accuracy: 0.9234 - val_loss: 0.2761 - val_accuracy: 0.9225\n",
      "Epoch 156/200\n",
      "469/469 [==============================] - 4s 8ms/step - loss: 0.2756 - accuracy: 0.9238 - val_loss: 0.2760 - val_accuracy: 0.9222\n",
      "Epoch 157/200\n",
      "469/469 [==============================] - 4s 8ms/step - loss: 0.2755 - accuracy: 0.9237 - val_loss: 0.2759 - val_accuracy: 0.9223\n",
      "Epoch 158/200\n",
      "469/469 [==============================] - 4s 8ms/step - loss: 0.2753 - accuracy: 0.9237 - val_loss: 0.2757 - val_accuracy: 0.9223\n",
      "Epoch 159/200\n",
      "469/469 [==============================] - 4s 8ms/step - loss: 0.2752 - accuracy: 0.9237 - val_loss: 0.2757 - val_accuracy: 0.9231\n",
      "Epoch 160/200\n",
      "469/469 [==============================] - 4s 8ms/step - loss: 0.2750 - accuracy: 0.9239 - val_loss: 0.2755 - val_accuracy: 0.9222\n",
      "Epoch 161/200\n",
      "469/469 [==============================] - 4s 8ms/step - loss: 0.2749 - accuracy: 0.9240 - val_loss: 0.2756 - val_accuracy: 0.9222\n",
      "Epoch 162/200\n",
      "469/469 [==============================] - 4s 8ms/step - loss: 0.2748 - accuracy: 0.9241 - val_loss: 0.2754 - val_accuracy: 0.9229\n",
      "Epoch 163/200\n",
      "469/469 [==============================] - 4s 8ms/step - loss: 0.2745 - accuracy: 0.9242 - val_loss: 0.2754 - val_accuracy: 0.9229\n",
      "Epoch 164/200\n",
      "469/469 [==============================] - 4s 8ms/step - loss: 0.2745 - accuracy: 0.9239 - val_loss: 0.2752 - val_accuracy: 0.9230\n",
      "Epoch 165/200\n",
      "469/469 [==============================] - 4s 8ms/step - loss: 0.2743 - accuracy: 0.9241 - val_loss: 0.2755 - val_accuracy: 0.9224\n",
      "Epoch 166/200\n",
      "469/469 [==============================] - 4s 8ms/step - loss: 0.2742 - accuracy: 0.9242 - val_loss: 0.2751 - val_accuracy: 0.9231\n",
      "Epoch 167/200\n",
      "469/469 [==============================] - 4s 8ms/step - loss: 0.2740 - accuracy: 0.9241 - val_loss: 0.2750 - val_accuracy: 0.9232\n",
      "Epoch 168/200\n",
      "469/469 [==============================] - 4s 8ms/step - loss: 0.2739 - accuracy: 0.9242 - val_loss: 0.2749 - val_accuracy: 0.9230\n",
      "Epoch 169/200\n",
      "469/469 [==============================] - 4s 8ms/step - loss: 0.2738 - accuracy: 0.9242 - val_loss: 0.2748 - val_accuracy: 0.9228\n",
      "Epoch 170/200\n",
      "469/469 [==============================] - 4s 7ms/step - loss: 0.2736 - accuracy: 0.9243 - val_loss: 0.2750 - val_accuracy: 0.9230\n",
      "Epoch 171/200\n",
      "469/469 [==============================] - 4s 8ms/step - loss: 0.2735 - accuracy: 0.9244 - val_loss: 0.2748 - val_accuracy: 0.9233\n",
      "Epoch 172/200\n",
      "469/469 [==============================] - 4s 8ms/step - loss: 0.2734 - accuracy: 0.9246 - val_loss: 0.2746 - val_accuracy: 0.9229\n",
      "Epoch 173/200\n",
      "469/469 [==============================] - 4s 8ms/step - loss: 0.2732 - accuracy: 0.9246 - val_loss: 0.2746 - val_accuracy: 0.9233\n",
      "Epoch 174/200\n",
      "469/469 [==============================] - 4s 8ms/step - loss: 0.2731 - accuracy: 0.9245 - val_loss: 0.2746 - val_accuracy: 0.9225\n",
      "Epoch 175/200\n",
      "469/469 [==============================] - 4s 8ms/step - loss: 0.2730 - accuracy: 0.9245 - val_loss: 0.2744 - val_accuracy: 0.9228\n",
      "Epoch 176/200\n",
      "469/469 [==============================] - 4s 8ms/step - loss: 0.2728 - accuracy: 0.9246 - val_loss: 0.2744 - val_accuracy: 0.9234\n",
      "Epoch 177/200\n",
      "469/469 [==============================] - 4s 8ms/step - loss: 0.2727 - accuracy: 0.9245 - val_loss: 0.2744 - val_accuracy: 0.9231\n",
      "Epoch 178/200\n",
      "469/469 [==============================] - 4s 8ms/step - loss: 0.2726 - accuracy: 0.9248 - val_loss: 0.2742 - val_accuracy: 0.9228\n",
      "Epoch 179/200\n",
      "469/469 [==============================] - 4s 8ms/step - loss: 0.2724 - accuracy: 0.9248 - val_loss: 0.2746 - val_accuracy: 0.9227\n",
      "Epoch 180/200\n",
      "469/469 [==============================] - 4s 8ms/step - loss: 0.2723 - accuracy: 0.9250 - val_loss: 0.2742 - val_accuracy: 0.9225\n",
      "Epoch 181/200\n",
      "469/469 [==============================] - 4s 8ms/step - loss: 0.2722 - accuracy: 0.9246 - val_loss: 0.2742 - val_accuracy: 0.9232\n",
      "Epoch 182/200\n",
      "469/469 [==============================] - 4s 8ms/step - loss: 0.2721 - accuracy: 0.9249 - val_loss: 0.2741 - val_accuracy: 0.9231\n",
      "Epoch 183/200\n",
      "469/469 [==============================] - 4s 8ms/step - loss: 0.2720 - accuracy: 0.9251 - val_loss: 0.2739 - val_accuracy: 0.9227\n",
      "Epoch 184/200\n",
      "469/469 [==============================] - 4s 8ms/step - loss: 0.2719 - accuracy: 0.9248 - val_loss: 0.2740 - val_accuracy: 0.9232\n",
      "Epoch 185/200\n",
      "469/469 [==============================] - 4s 8ms/step - loss: 0.2717 - accuracy: 0.9250 - val_loss: 0.2738 - val_accuracy: 0.9228\n",
      "Epoch 186/200\n",
      "469/469 [==============================] - 4s 7ms/step - loss: 0.2716 - accuracy: 0.9251 - val_loss: 0.2739 - val_accuracy: 0.9232\n",
      "Epoch 187/200\n",
      "469/469 [==============================] - 4s 8ms/step - loss: 0.2715 - accuracy: 0.9253 - val_loss: 0.2737 - val_accuracy: 0.9226\n",
      "Epoch 188/200\n",
      "469/469 [==============================] - 4s 7ms/step - loss: 0.2714 - accuracy: 0.9250 - val_loss: 0.2735 - val_accuracy: 0.9234\n",
      "Epoch 189/200\n",
      "469/469 [==============================] - 4s 7ms/step - loss: 0.2713 - accuracy: 0.9251 - val_loss: 0.2737 - val_accuracy: 0.9230\n",
      "Epoch 190/200\n",
      "469/469 [==============================] - 4s 7ms/step - loss: 0.2711 - accuracy: 0.9252 - val_loss: 0.2736 - val_accuracy: 0.9224\n",
      "Epoch 191/200\n",
      "469/469 [==============================] - 4s 8ms/step - loss: 0.2710 - accuracy: 0.9252 - val_loss: 0.2735 - val_accuracy: 0.9227\n",
      "Epoch 192/200\n",
      "469/469 [==============================] - 4s 8ms/step - loss: 0.2709 - accuracy: 0.9252 - val_loss: 0.2735 - val_accuracy: 0.9225\n",
      "Epoch 193/200\n",
      "469/469 [==============================] - 4s 7ms/step - loss: 0.2708 - accuracy: 0.9252 - val_loss: 0.2734 - val_accuracy: 0.9228\n",
      "Epoch 194/200\n",
      "469/469 [==============================] - 4s 8ms/step - loss: 0.2707 - accuracy: 0.9254 - val_loss: 0.2732 - val_accuracy: 0.9229\n",
      "Epoch 195/200\n",
      "469/469 [==============================] - 4s 7ms/step - loss: 0.2706 - accuracy: 0.9254 - val_loss: 0.2731 - val_accuracy: 0.9230\n",
      "Epoch 196/200\n",
      "469/469 [==============================] - 4s 8ms/step - loss: 0.2705 - accuracy: 0.9253 - val_loss: 0.2731 - val_accuracy: 0.9228\n",
      "Epoch 197/200\n",
      "469/469 [==============================] - 4s 8ms/step - loss: 0.2704 - accuracy: 0.9256 - val_loss: 0.2731 - val_accuracy: 0.9234\n",
      "Epoch 198/200\n",
      "469/469 [==============================] - 4s 7ms/step - loss: 0.2703 - accuracy: 0.9253 - val_loss: 0.2730 - val_accuracy: 0.9233\n",
      "Epoch 199/200\n",
      "469/469 [==============================] - 4s 8ms/step - loss: 0.2701 - accuracy: 0.9255 - val_loss: 0.2731 - val_accuracy: 0.9225\n",
      "Epoch 200/200\n",
      "469/469 [==============================] - 4s 8ms/step - loss: 0.2700 - accuracy: 0.9254 - val_loss: 0.2728 - val_accuracy: 0.9232\n"
     ]
    }
   ],
   "source": [
    "# Training the model.\n",
    "mnist_model.fit()"
   ]
  },
  {
   "cell_type": "markdown",
   "metadata": {},
   "source": [
    "# Evaluate Model"
   ]
  },
  {
   "cell_type": "code",
   "execution_count": 10,
   "metadata": {},
   "outputs": [
    {
     "name": "stdout",
     "output_type": "stream",
     "text": [
      "313/313 [==============================] - 2s 6ms/step - loss: 0.2728 - accuracy: 0.9232\n",
      "Test accuracy: 0.9232000708580017\n"
     ]
    }
   ],
   "source": [
    "#evaluate the model\n",
    "test_loss, test_acc = mnist_model.evaluate()\n",
    "print('Test accuracy:', test_acc)\n"
   ]
  },
  {
   "cell_type": "markdown",
   "metadata": {},
   "source": [
    "## Launch TensorBoard\n"
   ]
  },
  {
   "cell_type": "code",
   "execution_count": 5,
   "metadata": {},
   "outputs": [
    {
     "data": {
      "text/plain": [
       "Reusing TensorBoard on port 6007 (pid 74730), started 0:00:28 ago. (Use '!kill 74730' to kill it.)"
      ]
     },
     "metadata": {},
     "output_type": "display_data"
    },
    {
     "data": {
      "text/html": [
       "\n",
       "      <iframe id=\"tensorboard-frame-5ea0e971c2c23a0a\" width=\"100%\" height=\"800\" frameborder=\"0\">\n",
       "      </iframe>\n",
       "      <script>\n",
       "        (function() {\n",
       "          const frame = document.getElementById(\"tensorboard-frame-5ea0e971c2c23a0a\");\n",
       "          const url = new URL(\"http://localhost\");\n",
       "          const port = 6007;\n",
       "          if (port) {\n",
       "            url.port = port;\n",
       "          }\n",
       "          frame.src = url;\n",
       "        })();\n",
       "      </script>\n",
       "    "
      ],
      "text/plain": [
       "<IPython.core.display.HTML object>"
      ]
     },
     "metadata": {},
     "output_type": "display_data"
    }
   ],
   "source": [
    "%tensorboard --logdir logs/fit"
   ]
  },
  {
   "cell_type": "code",
   "execution_count": null,
   "metadata": {},
   "outputs": [],
   "source": []
  }
 ],
 "metadata": {
  "interpreter": {
   "hash": "899be85650f4fd9fd1c61155ad1038b3bd3ce4f173c19491b42003eb0b61918c"
  },
  "kernelspec": {
   "display_name": "Python 3.8.12 ('tf_m1')",
   "language": "python",
   "name": "python3"
  },
  "language_info": {
   "codemirror_mode": {
    "name": "ipython",
    "version": 3
   },
   "file_extension": ".py",
   "mimetype": "text/x-python",
   "name": "python",
   "nbconvert_exporter": "python",
   "pygments_lexer": "ipython3",
   "version": "3.8.12"
  },
  "orig_nbformat": 4
 },
 "nbformat": 4,
 "nbformat_minor": 2
}
