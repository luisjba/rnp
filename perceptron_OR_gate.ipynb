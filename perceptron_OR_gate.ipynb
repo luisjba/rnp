{
 "cells": [
  {
   "cell_type": "markdown",
   "id": "dd5f2310-7a4b-4870-861b-40b7d80ea6d5",
   "metadata": {},
   "source": [
    "# Perceptron para compuerta lógica OR\n",
    "\n",
    "El algoritmo para implementar el perceptron para la compuerta lógica OR, implementa\n",
    "la siguiente función:\n",
    "\n",
    "$$\n",
    "\\hat{y} = \\Theta (w_1 x_1 + w_2 x_2 ... + w_n x_n + b ) \\\\\n",
    "        = \\Theta(w . X + b)\n",
    "$$\n",
    "\\begin{equation}\n",
    "donde \\ \\Theta(v) = \\begin{cases}\n",
    "      1, & \\text{if}\\ v \\geq 0 \\\\\n",
    "      0, & \\text{otherwise}\n",
    "    \\end{cases}\n",
    "\\end{equation}"
   ]
  },
  {
   "cell_type": "markdown",
   "id": "d5a48d81-7ddc-4918-a2c8-8d0f5ff1684f",
   "metadata": {},
   "source": [
    "Para una elección particular de pesos del vector $w$ un un parámetro bias $b$, el modelo predice la salida $\\hat{y}$ para las correspondientes entradas del vector $x$.\n",
    "\n",
    "La tabla de verdad para la función lógica OR para variables binarias de 2-bit, por ejemplo, la entrada del vector $x: (x_1, x_2)$ y la correspondiente salida $y$.\n",
    "\n",
    "|$x_1$|$x_2$| $y$ |\n",
    "| --- | --- | --- |\n",
    "|0    |0    |0    |\n",
    "|0    |1    |1    |\n",
    "|1    |0    |1    |\n",
    "|1    |1    |1    |\n",
    "\n",
    "Para el correspondiente peso del vector $w: (w_1,w_2)$ del vector de entrada\n",
    "$x:(x_1, x_2)$, la funcion asociada al percetron puede definorse como:\n",
    "\n",
    "$$\n",
    "\\hat{y} = \\Theta (w_1 x_1 + w_2 x_2 + b ) \n",
    "$$\n"
   ]
  },
  {
   "cell_type": "markdown",
   "id": "ce76c465-7ce1-49d2-bc5f-0e1d655ba9a5",
   "metadata": {},
   "source": [
    "## Funcion de error\n",
    "\n",
    "Para calcular el error del perceptron, tenemos la siguiente función:\n",
    "\n",
    "$$\n",
    "Error(w) = 1/2 (y - \\hat{y} )^2 = 1/2 \\left[ y - L \\left(  \\sum_{j=1}^{n} w_{j} x_{j} \\right) \\right]^2\n",
    "$$"
   ]
  },
  {
   "cell_type": "markdown",
   "id": "d29e646a-1704-47e4-b0a2-b84a31bed787",
   "metadata": {},
   "source": [
    "## Implementacion del perceptron en Python"
   ]
  },
  {
   "cell_type": "code",
   "execution_count": 66,
   "id": "c1e9324e-c82d-4161-a372-391e7d9d3460",
   "metadata": {},
   "outputs": [],
   "source": [
    "import numpy as np\n",
    "import math\n",
    "import matplotlib.pyplot as plt\n",
    "%matplotlib inline\n",
    "\n",
    "def umbral(v:int) -> int:\n",
    "    \"\"\"Funcion umbral\"\"\"\n",
    "    return 1 if v >= 0 else 0\n",
    "\n",
    "def predict(x:np.array, w:np.array, b:float) -> int:\n",
    "    \"\"\"Modelo del perceptron para hacer la prediccción\"\"\"\n",
    "    v = (x @ w) + b\n",
    "    actiovation_fn = umbral\n",
    "    if len(v) > 1:\n",
    "        # para mapear la funcion umbral en los valores de v cuando es un vector\n",
    "        actiovation_fn = np.vectorize(actiovation_fn)\n",
    "    y = actiovation_fn(v)\n",
    "    return y\n",
    "    \n",
    "def costo(x:np.array, y:int, w:np.array, b:float):\n",
    "    \"\"\"Computa el costo, es decir, el error\"\"\"\n",
    "    m = len(y) # numero renglones\n",
    "    y_hat = predict(x, w, b)\n",
    "    j =  np.power(y - y_hat ,2).sum()/(2*m)\n",
    "    return j\n",
    "\n",
    "def grad_costo(x, y, w, b, nu=0.001):\n",
    "    \"\"\"Gradientes y costo\n",
    "    @param nu: taza de aprendizaje \n",
    "    \"\"\"\n",
    "    m = len(y) # numero de ejemplos de entrenamiento\n",
    "    error = y - predict(x, w, b)\n",
    "    # derivada de la funcion de costo, respecto a b\n",
    "    db =  np.sum(nu * error)\n",
    "    # derivada de la funcion de costo, respecto a w\n",
    "    dw = np.zeros(len(w))\n",
    "    for i in range(len(w)):\n",
    "        dw[i] = (nu/m) * np.sum( error * x[:,i])\n",
    "    return dw, db\n",
    "    "
   ]
  },
  {
   "cell_type": "markdown",
   "id": "ccd71865-5ab3-4691-a64c-c5728a4ca0f5",
   "metadata": {},
   "source": [
    "Vamos a generar nuestros vectores de entrada $x:(x_1, x_2)$, la correspondiente salida $y$."
   ]
  },
  {
   "cell_type": "code",
   "execution_count": 24,
   "id": "db8f24a0-5371-424e-ad22-2cf5186236e2",
   "metadata": {},
   "outputs": [
    {
     "data": {
      "image/png": "[encoded data removed]",
      "text/plain": [
       "<Figure size 432x288 with 1 Axes>"
      ]
     },
     "metadata": {
      "needs_background": "light"
     },
     "output_type": "display_data"
    }
   ],
   "source": [
    "data_OR = np.array(\n",
    "    [\n",
    "        [0,0,0],\n",
    "        [0,1,1],\n",
    "        [1,0,1],\n",
    "        [1,1,1]\n",
    "    ]\n",
    "    ,dtype=np.int32)\n",
    "x = data_OR[:,:2]\n",
    "y = data_OR[:,-1]\n",
    "plt.scatter(x[:, 0], x[:, 1], c = y, s=100, cmap=\"viridis\" )\n",
    "plt.xlim([-0.2, 1.2]); plt.ylim([-0.2, 1.25]);\n",
    "plt.show()"
   ]
  },
  {
   "cell_type": "markdown",
   "id": "f0f5b167-ff3a-4d1c-a3af-f4ca1e5901cf",
   "metadata": {},
   "source": [
    "Vamos a inicializar nuestro vector $w: (w_1,w_2) y bias $b$"
   ]
  },
  {
   "cell_type": "code",
   "execution_count": 25,
   "id": "20aa2b0f-5160-4b57-9d9a-1775c68296a7",
   "metadata": {},
   "outputs": [],
   "source": [
    "w = np.array([1,1])\n",
    "b = -0.5"
   ]
  },
  {
   "cell_type": "markdown",
   "id": "94bd13cb-415d-4d15-a7bb-a2d15c186a45",
   "metadata": {},
   "source": [
    "Probamos la prediccion para los valores de $x$ que tenemo."
   ]
  },
  {
   "cell_type": "code",
   "execution_count": 62,
   "id": "16c498ab-6963-4dc7-92f1-ebfde4e7d74e",
   "metadata": {},
   "outputs": [
    {
     "name": "stdout",
     "output_type": "stream",
     "text": [
      "OR(0 , 0) =  0 , correcto=SI\n",
      "OR(0 , 1) =  1 , correcto=SI\n",
      "OR(1 , 0) =  1 , correcto=SI\n",
      "OR(1 , 1) =  1 , correcto=SI\n"
     ]
    }
   ],
   "source": [
    "y_pred = predict(x, w, b)\n",
    "for i,y_pi in enumerate(y_pred):\n",
    "    print(\"OR({} , {}) =  {} , correcto={}\".format(x[i,0], x[i,1], y_pi, \"SI\" if y_pi == y[i] else \"no\"))"
   ]
  },
  {
   "cell_type": "code",
   "execution_count": 36,
   "id": "2efdd89d-bb30-4d50-bc1e-e5f9d1f5b751",
   "metadata": {},
   "outputs": [
    {
     "name": "stdout",
     "output_type": "stream",
     "text": [
      "Costo al probar w y b : 0.0\n"
     ]
    }
   ],
   "source": [
    "j = costo(x, y, w, b)\n",
    "print(\"Costo al probar w y b : {}\".format(j))"
   ]
  },
  {
   "cell_type": "markdown",
   "id": "ac1e46b8-135d-45be-9a92-8acdba8dbe01",
   "metadata": {},
   "source": [
    "## Gradiente decendiente\n"
   ]
  },
  {
   "cell_type": "markdown",
   "id": "e144364e-101e-4730-ac1c-eaf8a6dce5c7",
   "metadata": {},
   "source": [
    "Implementacion del algoritmo de gradiente descendiente"
   ]
  },
  {
   "cell_type": "code",
   "execution_count": 104,
   "id": "eb139612-20be-438a-aeb6-4fdba2c82500",
   "metadata": {},
   "outputs": [],
   "source": [
    "def grad_decent(x, y, w, b, nu=0.001, max_iteraciones=100, batch_size=100):\n",
    "    \"\"\"Algoritmo de gradiente descendiente\"\"\"\n",
    "    w, b = w.copy(), b # para no alterar lo valores orginales\n",
    "    J = np.zeros(max_iteraciones)\n",
    "    x_line = np.linspace(0,1, 100)\n",
    "    plt.scatter(x[:, 0], x[:, 1], c = y, s=100, cmap=\"viridis\" )\n",
    "    for iteracion in range(1,max_iteraciones+1):\n",
    "        # calculamos los gradientes y costo\n",
    "        dw, db  =  grad_costo(x, y, w, b, nu)\n",
    "        # a ctualizar los gradientes en w y b\n",
    "        w = w + dw\n",
    "        b = b + db\n",
    "        # acumulamos el erro\n",
    "        j = costo(x,y,w,b)\n",
    "        J[iteracion-1] = j\n",
    "        # revisamos convergencia\n",
    "        if iteracion % batch_size == 0:\n",
    "            print(\"Batch:{:d}  Costo:{:f} dw:{} db:{:f}\".format(int(iteracion/batch_size), j, dw, db))\n",
    "            # w0 X0 + w1 X1 + b = 0    x1 = (- b - w0 x0 )/ w1 \n",
    "            y_line = -(w[0] * x_line + b)/w[1]\n",
    "            #print(\"x({}) , y({})\".format(x_line.shape, y_line.shape))\n",
    "            plt.plot(x_line, y_line, color='k', linewidth=2)\n",
    "            \n",
    "        if j == 0:\n",
    "            break\n",
    "    plt.xlim([-0.2, 1.2]); plt.ylim([-0.2, 1.25]);\n",
    "    return w, b, j_hist\n",
    "    "
   ]
  },
  {
   "cell_type": "markdown",
   "id": "2aa545ba-6c40-4f1a-9ddb-01107393293b",
   "metadata": {},
   "source": [
    "## Probando el gradiente descendiente"
   ]
  },
  {
   "cell_type": "code",
   "execution_count": 111,
   "id": "ea28b380-07ae-450c-b2d5-da33f408a480",
   "metadata": {},
   "outputs": [
    {
     "name": "stdout",
     "output_type": "stream",
     "text": [
      "Batch:1  Costo:0.375000 dw:[0.005 0.005] db:0.030000\n",
      "Batch:2  Costo:0.375000 dw:[0.005 0.005] db:0.030000\n",
      "Batch:3  Costo:0.375000 dw:[0.005 0.005] db:0.030000\n",
      "Batch:4  Costo:0.375000 dw:[0.005 0.005] db:0.030000\n",
      "Batch:5  Costo:0.375000 dw:[0.005 0.005] db:0.030000\n",
      "Batch:6  Costo:0.375000 dw:[0.005 0.005] db:0.030000\n",
      "Batch:7  Costo:0.375000 dw:[0.005 0.005] db:0.030000\n",
      "Batch:8  Costo:0.375000 dw:[0.005 0.005] db:0.030000\n",
      "Batch:9  Costo:0.375000 dw:[0.005 0.005] db:0.030000\n",
      "Batch:10  Costo:0.375000 dw:[0.005 0.005] db:0.030000\n",
      "Batch:11  Costo:0.375000 dw:[0.005 0.005] db:0.030000\n",
      "Batch:12  Costo:0.375000 dw:[0.005 0.005] db:0.030000\n",
      "Batch:13  Costo:0.250000 dw:[0.005 0.005] db:0.030000\n",
      "Batch:14  Costo:0.250000 dw:[0.0025 0.0025] db:0.020000\n",
      "Batch:15  Costo:0.000000 dw:[0.0025 0.0025] db:0.020000\n",
      "gard:[0.07 0.07], b:-0.070000 loss:0.125000\n"
     ]
    },
    {
     "data": {
      "image/png": "[encoded data removed]",
      "text/plain": [
       "<Figure size 432x288 with 1 Axes>"
      ]
     },
     "metadata": {
      "needs_background": "light"
     },
     "output_type": "display_data"
    }
   ],
   "source": [
    "w = np.array([0,0])\n",
    "b = -0.5\n",
    "nu = 0.01\n",
    "max_iteraciones = 100\n",
    "batch_size = 1\n",
    "grad, b2, j_hist = grad_decent(x, y, w, b, nu, max_iteraciones, batch_size)\n",
    "print(\"gard:{}, b:{:f} loss:{:f}\".format(grad, b2, j_hist.mean()))"
   ]
  },
  {
   "cell_type": "code",
   "execution_count": null,
   "id": "34b6c3ae-8642-4649-bdae-708706443978",
   "metadata": {},
   "outputs": [],
   "source": []
  },
  {
   "cell_type": "code",
   "execution_count": null,
   "id": "8f68276a-3048-4797-8755-4bf3a8d9d112",
   "metadata": {},
   "outputs": [],
   "source": []
  }
 ],
 "metadata": {
  "kernelspec": {
   "display_name": "Python 3 (ipykernel)",
   "language": "python",
   "name": "python3"
  },
  "language_info": {
   "codemirror_mode": {
    "name": "ipython",
    "version": 3
   },
   "file_extension": ".py",
   "mimetype": "text/x-python",
   "name": "python",
   "nbconvert_exporter": "python",
   "pygments_lexer": "ipython3",
   "version": "3.9.7"
  }
 },
 "nbformat": 4,
 "nbformat_minor": 5
}
