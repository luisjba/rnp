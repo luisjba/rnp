{
 "cells": [
  {
   "cell_type": "markdown",
   "id": "dd5f2310-7a4b-4870-861b-40b7d80ea6d5",
   "metadata": {},
   "source": [
    "# Perceptron para compuerta lógica OR\n",
    "\n",
    "El algoritmo para implementar el perceptron para la compuerta lógica OR, implementa\n",
    "la siguiente función:\n",
    "\n",
    "$$\n",
    "\\hat{y} = \\Theta (w_1 x_1 + w_2 x_2 ... + w_n x_n + b ) \\\\\n",
    "        = \\Theta(w . X + b)\n",
    "$$\n",
    "\\begin{equation}\n",
    "donde \\ \\Theta(v) = \\begin{cases}\n",
    "      1, & \\text{if}\\ v \\geq 0 \\\\\n",
    "      0, & \\text{otherwise}\n",
    "    \\end{cases}\n",
    "\\end{equation}"
   ]
  },
  {
   "cell_type": "markdown",
   "id": "d5a48d81-7ddc-4918-a2c8-8d0f5ff1684f",
   "metadata": {},
   "source": [
    "Para una elección particular de pesos del vector $w$ un un parámetro bias $b$, el modelo predice la salida $\\hat{y}$ para las correspondientes entradas del vector $x$.\n",
    "\n",
    "La tabla de verdad para la función lógica OR para variables binarias de 2-bit, por ejemplo, la entrada del vector $x: (x_1, x_2)$ y la correspondiente salida $y$.\n",
    "\n",
    "|$x_1$|$x_2$| $y$ |\n",
    "| --- | --- | --- |\n",
    "|0    |0    |0    |\n",
    "|0    |1    |1    |\n",
    "|1    |0    |1    |\n",
    "|1    |1    |1    |\n",
    "\n",
    "Para el correspondiente peso del vector $w: (w_1,w_2)$ del vector de entrada\n",
    "$x:(x_1, x_2)$, la funcion asociada al percetron puede definorse como:\n",
    "\n",
    "$$\n",
    "\\hat{y} = \\Theta (w_1 x_1 + w_2 x_2 + b ) \n",
    "$$\n"
   ]
  },
  {
   "cell_type": "markdown",
   "id": "ce76c465-7ce1-49d2-bc5f-0e1d655ba9a5",
   "metadata": {},
   "source": [
    "## Funcion de error\n",
    "\n",
    "Para calcular el error del perceptron, tenemos la siguiente función:\n",
    "\n",
    "$$\n",
    "Error(w) = 1/2 (y - \\hat{y} )^2 = 1/2 \\left[ y - L \\left(  \\sum_{j=1}^{n} w_{j} x_{j} \\right) \\right]^2\n",
    "$$"
   ]
  },
  {
   "cell_type": "markdown",
   "id": "d29e646a-1704-47e4-b0a2-b84a31bed787",
   "metadata": {},
   "source": [
    "## Implementacion del perceptron en Python"
   ]
  },
  {
   "cell_type": "code",
   "execution_count": 123,
   "id": "c1e9324e-c82d-4161-a372-391e7d9d3460",
   "metadata": {},
   "outputs": [],
   "source": [
    "import numpy as np\n",
    "import math\n",
    "import matplotlib.pyplot as plt\n",
    "%matplotlib inline\n",
    "\n",
    "def umbral(v:int) -> int:\n",
    "    \"\"\"Funcion umbral\"\"\"\n",
    "    return 1 if v >= 0 else 0\n",
    "\n",
    "def predict(x:np.array, w:np.array, b:float) -> int:\n",
    "    \"\"\"Modelo del perceptron para hacer la prediccción\"\"\"\n",
    "    v = (x @ w) + b\n",
    "    actiovation_fn = umbral\n",
    "    if len(v) > 1:\n",
    "        # para mapear la funcion umbral en los valores de v cuando es un vector\n",
    "        actiovation_fn = np.vectorize(actiovation_fn)\n",
    "    y = actiovation_fn(v)\n",
    "    return y\n",
    "    \n",
    "def costo(x:np.array, y:int, w:np.array, b:float):\n",
    "    \"\"\"Computa el costo, es decir, el error\"\"\"\n",
    "    m = len(y) # numero renglones\n",
    "    y_hat = predict(x, w, b)\n",
    "    j =  np.power(y - y_hat ,2).sum()/(2*m)\n",
    "    return j\n",
    "\n",
    "def grad_costo(x, y, w, b, nu=0.001):\n",
    "    \"\"\"Gradientes y costo\n",
    "    @param nu: taza de aprendizaje \n",
    "    \"\"\"\n",
    "    m = len(y) # numero de ejemplos de entrenamiento\n",
    "    error = y - predict(x, w, b)\n",
    "    # derivada de la funcion de costo, respecto a b\n",
    "    db =  np.sum(nu * error)\n",
    "    # derivada de la funcion de costo, respecto a w\n",
    "    dw = np.zeros(len(w))\n",
    "#     for i in range(len(w)):\n",
    "#         for x_j in x[:,i]\n",
    "#             dw[i] = nu * error * x_j\n",
    "    \n",
    "    for i in range(len(w)):\n",
    "        dw[i] = (nu/m) * np.sum( error * x[:,i])\n",
    "    return dw, db\n",
    "    "
   ]
  },
  {
   "cell_type": "markdown",
   "id": "ccd71865-5ab3-4691-a64c-c5728a4ca0f5",
   "metadata": {},
   "source": [
    "Vamos a generar nuestros vectores de entrada $x:(x_1, x_2)$, la correspondiente salida $y$."
   ]
  },
  {
   "cell_type": "code",
   "execution_count": 24,
   "id": "db8f24a0-5371-424e-ad22-2cf5186236e2",
   "metadata": {},
   "outputs": [
    {
     "data": {
      "image/png": "[encoded data removed]",
      "text/plain": [
       "<Figure size 432x288 with 1 Axes>"
      ]
     },
     "metadata": {
      "needs_background": "light"
     },
     "output_type": "display_data"
    }
   ],
   "source": [
    "data_OR = np.array(\n",
    "    [\n",
    "        [0,0,0],\n",
    "        [0,1,1],\n",
    "        [1,0,1],\n",
    "        [1,1,1]\n",
    "    ]\n",
    "    ,dtype=np.int32)\n",
    "x = data_OR[:,:2]\n",
    "y = data_OR[:,-1]\n",
    "plt.scatter(x[:, 0], x[:, 1], c = y, s=100, cmap=\"viridis\" )\n",
    "plt.xlim([-0.2, 1.2]); plt.ylim([-0.2, 1.25]);\n",
    "plt.show()"
   ]
  },
  {
   "cell_type": "markdown",
   "id": "f0f5b167-ff3a-4d1c-a3af-f4ca1e5901cf",
   "metadata": {},
   "source": [
    "Vamos a inicializar nuestro vector $w: (w_1,w_2) y bias $b$"
   ]
  },
  {
   "cell_type": "code",
   "execution_count": 118,
   "id": "20aa2b0f-5160-4b57-9d9a-1775c68296a7",
   "metadata": {},
   "outputs": [],
   "source": [
    "w = np.array([-1,1])\n",
    "b = -0.5"
   ]
  },
  {
   "cell_type": "markdown",
   "id": "94bd13cb-415d-4d15-a7bb-a2d15c186a45",
   "metadata": {},
   "source": [
    "Probamos la prediccion para los valores de $x$ que tenemo."
   ]
  },
  {
   "cell_type": "code",
   "execution_count": 119,
   "id": "16c498ab-6963-4dc7-92f1-ebfde4e7d74e",
   "metadata": {},
   "outputs": [
    {
     "name": "stdout",
     "output_type": "stream",
     "text": [
      "OR(0 , 0) =  0 , correcto=SI\n",
      "OR(0 , 1) =  1 , correcto=SI\n",
      "OR(1 , 0) =  0 , correcto=no\n",
      "OR(1 , 1) =  0 , correcto=no\n"
     ]
    }
   ],
   "source": [
    "y_pred = predict(x, w, b)\n",
    "for i,y_pi in enumerate(y_pred):\n",
    "    print(\"OR({} , {}) =  {} , correcto={}\".format(x[i,0], x[i,1], y_pi, \"SI\" if y_pi == y[i] else \"no\"))"
   ]
  },
  {
   "cell_type": "code",
   "execution_count": 120,
   "id": "2efdd89d-bb30-4d50-bc1e-e5f9d1f5b751",
   "metadata": {},
   "outputs": [
    {
     "name": "stdout",
     "output_type": "stream",
     "text": [
      "Costo al probar w y b : 0.25\n"
     ]
    }
   ],
   "source": [
    "j = costo(x, y, w, b)\n",
    "print(\"Costo al probar w y b : {}\".format(j))"
   ]
  },
  {
   "cell_type": "markdown",
   "id": "ac1e46b8-135d-45be-9a92-8acdba8dbe01",
   "metadata": {},
   "source": [
    "## Gradiente decendiente\n"
   ]
  },
  {
   "cell_type": "markdown",
   "id": "e144364e-101e-4730-ac1c-eaf8a6dce5c7",
   "metadata": {},
   "source": [
    "Implementacion del algoritmo de gradiente descendiente"
   ]
  },
  {
   "cell_type": "code",
   "execution_count": 181,
   "id": "eb139612-20be-438a-aeb6-4fdba2c82500",
   "metadata": {},
   "outputs": [],
   "source": [
    "def grad_decent(x, y, w, b, nu=0.001, max_iteraciones=100, batch_size=100):\n",
    "    \"\"\"Algoritmo de gradiente descendiente\"\"\"\n",
    "    w, b = w.copy(), b # para no alterar lo valores orginales\n",
    "    J = np.zeros(max_iteraciones)\n",
    "    x_line = np.linspace(0,1, 100)\n",
    "    plt.scatter(x[:, 0], x[:, 1], c = y, s=100, cmap=\"viridis\" )\n",
    "    for iteracion in range(1,max_iteraciones+1):\n",
    "        # calculamos los gradientes y costo\n",
    "        dw, db  =  grad_costo(x, y, w, b, nu)\n",
    "        # a ctualizar los gradientes en w y b\n",
    "        w = w + dw\n",
    "        b = b + db\n",
    "        # acumulamos el erro\n",
    "        j = costo(x,y,w,b)\n",
    "        \n",
    "        # revisamos convergencia\n",
    "        if iteracion % batch_size == 0:\n",
    "            print(\"Batch:{:.0f}  Costo:{:f} w:{} dw:{} d:{} db:{:f}\".format(int(iteracion/batch_size), j,w, dw,b, db))\n",
    "            # w0 X0 + w1 X1 + b = 0    x1 = (- b - w0 x0 )/ w1 \n",
    "            y_line = -(w[0] * x_line + b)/w[1]\n",
    "            #print(\"x({}) , y({})\".format(x_line.shape, y_line.shape))\n",
    "            plt.plot(x_line, y_line, color='k', linewidth=2)\n",
    "        J[iteracion-1] = j    \n",
    "        if j == 0:\n",
    "            J = J[:iteracion]\n",
    "            break\n",
    "    plt.xlim([-0.2, 1.2]); plt.ylim([-0.2, 1.25]);\n",
    "    return w, b, J\n",
    "    "
   ]
  },
  {
   "cell_type": "markdown",
   "id": "2aa545ba-6c40-4f1a-9ddb-01107393293b",
   "metadata": {},
   "source": [
    "## Probando el gradiente descendiente"
   ]
  },
  {
   "cell_type": "code",
   "execution_count": 142,
   "id": "4b43e436-8b06-43a5-b15c-0ac264c5ad71",
   "metadata": {},
   "outputs": [
    {
     "data": {
      "text/plain": [
       "array([-0.18018895, -0.42116799])"
      ]
     },
     "execution_count": 142,
     "metadata": {},
     "output_type": "execute_result"
    }
   ],
   "source": [
    "w = np.random.uniform(-1,1, size=2)\n",
    "w"
   ]
  },
  {
   "cell_type": "code",
   "execution_count": 195,
   "id": "ea28b380-07ae-450c-b2d5-da33f408a480",
   "metadata": {},
   "outputs": [
    {
     "name": "stdout",
     "output_type": "stream",
     "text": [
      "Batch:1  Costo:0.125000 w:[-0.16945337 -0.74444657] dw:[0.25 0.25] d:1.4 db:1.500000\n",
      "Batch:2  Costo:0.250000 w:[-0.16945337 -0.74444657] dw:[0. 0.] d:0.8999999999999999 db:-0.500000\n",
      "Batch:3  Costo:0.125000 w:[-0.04445337 -0.61944657] dw:[0.125 0.125] d:0.8999999999999999 db:0.000000\n",
      "Batch:4  Costo:0.375000 w:[-0.04445337 -0.61944657] dw:[0. 0.] d:0.3999999999999999 db:-0.500000\n",
      "Batch:5  Costo:0.125000 w:[ 0.08054663 -0.36944657] dw:[0.125 0.25 ] d:0.8999999999999999 db:0.500000\n",
      "Batch:6  Costo:0.125000 w:[ 0.08054663 -0.36944657] dw:[0. 0.] d:0.3999999999999999 db:-0.500000\n",
      "Batch:7  Costo:0.375000 w:[ 0.08054663 -0.36944657] dw:[0. 0.] d:-0.10000000000000009 db:-0.500000\n",
      "Batch:8  Costo:0.125000 w:[ 0.33054663 -0.11944657] dw:[0.25 0.25] d:1.4 db:1.500000\n",
      "Batch:9  Costo:0.125000 w:[ 0.33054663 -0.11944657] dw:[0. 0.] d:0.8999999999999999 db:-0.500000\n",
      "Batch:10  Costo:0.125000 w:[ 0.33054663 -0.11944657] dw:[0. 0.] d:0.3999999999999999 db:-0.500000\n",
      "Batch:11  Costo:0.125000 w:[ 0.33054663 -0.11944657] dw:[0. 0.] d:-0.10000000000000009 db:-0.500000\n",
      "Batch:12  Costo:0.125000 w:[0.33054663 0.00555343] dw:[0.    0.125] d:0.3999999999999999 db:0.500000\n",
      "Batch:13  Costo:0.125000 w:[0.33054663 0.00555343] dw:[0. 0.] d:-0.10000000000000009 db:-0.500000\n",
      "Batch:14  Costo:0.125000 w:[0.33054663 0.13055343] dw:[0.    0.125] d:0.3999999999999999 db:0.500000\n",
      "Batch:15  Costo:0.000000 w:[0.33054663 0.13055343] dw:[0. 0.] d:-0.10000000000000009 db:-0.500000\n"
     ]
    },
    {
     "data": {
      "image/png": "[encoded data removed]",
      "text/plain": [
       "<Figure size 432x288 with 1 Axes>"
      ]
     },
     "metadata": {
      "needs_background": "light"
     },
     "output_type": "display_data"
    }
   ],
   "source": [
    "#w = np.array([0,0])\n",
    "w = np.random.uniform(-1,1, size=2)\n",
    "b = -0.1\n",
    "nu = 0.5\n",
    "max_iteraciones = 100\n",
    "\n",
    "batch_size = 1\n",
    "grad, b2, j_hist = grad_decent(x, y, w, b, nu, max_iteraciones, batch_size)\n",
    "#print(\"gard:{}, b:{:f} loss:{:f}\".format(grad, b2, j_hist.mean()))"
   ]
  },
  {
   "cell_type": "code",
   "execution_count": 193,
   "id": "34b6c3ae-8642-4649-bdae-708706443978",
   "metadata": {},
   "outputs": [
    {
     "data": {
      "text/plain": [
       "<matplotlib.collections.PathCollection at 0x7f89005735b0>"
      ]
     },
     "execution_count": 193,
     "metadata": {},
     "output_type": "execute_result"
    },
    {
     "data": {
      "image/png": "[encoded data removed]",
      "text/plain": [
       "<Figure size 432x288 with 1 Axes>"
      ]
     },
     "metadata": {
      "needs_background": "light"
     },
     "output_type": "display_data"
    }
   ],
   "source": [
    "x_line = np.linspace(1,len(j_hist), len(j_hist))\n",
    "#j_hist\n",
    "plt.scatter(x_line, j_hist)"
   ]
  },
  {
   "cell_type": "code",
   "execution_count": 179,
   "id": "8f68276a-3048-4797-8755-4bf3a8d9d112",
   "metadata": {},
   "outputs": [
    {
     "name": "stdout",
     "output_type": "stream",
     "text": [
      "gard:[0.11527278 0.53963252], b:-0.100000 loss:0.181250\n"
     ]
    }
   ],
   "source": [
    "print(\"gard:{}, b:{:f} loss:{:f}\".format(grad, b2, j_hist.mean()))"
   ]
  },
  {
   "cell_type": "code",
   "execution_count": 189,
   "id": "940f33f7-4517-43fe-9137-e960f56d66ab",
   "metadata": {},
   "outputs": [
    {
     "data": {
      "text/plain": [
       "0.5"
      ]
     },
     "execution_count": 189,
     "metadata": {},
     "output_type": "execute_result"
    }
   ],
   "source": [
    "m=4\n",
    "y_hat = [1,0,0,0]\n",
    "j =  np.power(y - y_hat ,2).sum()/(2*m)\n",
    "j"
   ]
  },
  {
   "cell_type": "code",
   "execution_count": 184,
   "id": "ac77f86d-ca2d-410d-b355-5f1942ee8c96",
   "metadata": {},
   "outputs": [
    {
     "data": {
      "text/plain": [
       "array([0, 1, 1, 1], dtype=int32)"
      ]
     },
     "execution_count": 184,
     "metadata": {},
     "output_type": "execute_result"
    }
   ],
   "source": [
    "y"
   ]
  },
  {
   "cell_type": "code",
   "execution_count": 196,
   "id": "8110b3be-8a40-4dfb-9134-e9a270dd708a",
   "metadata": {},
   "outputs": [
    {
     "data": {
      "image/png": "[encoded data removed]",
      "text/plain": [
       "<Figure size 432x288 with 1 Axes>"
      ]
     },
     "metadata": {
      "needs_background": "light"
     },
     "output_type": "display_data"
    }
   ],
   "source": [
    "data_XOR = np.array(\n",
    "    [\n",
    "        [0,0,0],\n",
    "        [0,1,1],\n",
    "        [1,0,1],\n",
    "        [1,1,0]\n",
    "    ]\n",
    "    ,dtype=np.int32)\n",
    "x = data_XOR[:,:2]\n",
    "y = data_XOR[:,-1]\n",
    "plt.scatter(x[:, 0], x[:, 1], c = y, s=100, cmap=\"viridis\" )\n",
    "plt.xlim([-0.2, 1.2]); plt.ylim([-0.2, 1.25]);\n",
    "plt.show()"
   ]
  },
  {
   "cell_type": "code",
   "execution_count": 198,
   "id": "da9269cd-7c65-490c-a906-5f48d45d86a6",
   "metadata": {},
   "outputs": [
    {
     "name": "stdout",
     "output_type": "stream",
     "text": [
      "Batch:1  Costo:0.125000 w:[-0.64293492 -0.73513304] dw:[0.125 0.125] d:0.9 db:1.000000\n",
      "Batch:2  Costo:0.375000 w:[-0.64293492 -0.73513304] dw:[0. 0.] d:0.4 db:-0.500000\n",
      "Batch:3  Costo:0.125000 w:[-0.51793492 -0.61013304] dw:[0.125 0.125] d:0.9 db:0.500000\n",
      "Batch:4  Costo:0.375000 w:[-0.51793492 -0.61013304] dw:[0. 0.] d:0.4 db:-0.500000\n",
      "Batch:5  Costo:0.250000 w:[-0.39293492 -0.48513304] dw:[0.125 0.125] d:0.9 db:0.500000\n",
      "Batch:6  Costo:0.250000 w:[-0.51793492 -0.61013304] dw:[-0.125 -0.125] d:-0.09999999999999998 db:-1.000000\n",
      "Batch:7  Costo:0.250000 w:[-0.39293492 -0.48513304] dw:[0.125 0.125] d:0.9 db:1.000000\n",
      "Batch:8  Costo:0.250000 w:[-0.51793492 -0.61013304] dw:[-0.125 -0.125] d:-0.09999999999999998 db:-1.000000\n",
      "Batch:9  Costo:0.250000 w:[-0.39293492 -0.48513304] dw:[0.125 0.125] d:0.9 db:1.000000\n",
      "Batch:10  Costo:0.250000 w:[-0.51793492 -0.61013304] dw:[-0.125 -0.125] d:-0.09999999999999998 db:-1.000000\n",
      "Batch:11  Costo:0.250000 w:[-0.39293492 -0.48513304] dw:[0.125 0.125] d:0.9 db:1.000000\n",
      "Batch:12  Costo:0.250000 w:[-0.51793492 -0.61013304] dw:[-0.125 -0.125] d:-0.09999999999999998 db:-1.000000\n",
      "Batch:13  Costo:0.250000 w:[-0.39293492 -0.48513304] dw:[0.125 0.125] d:0.9 db:1.000000\n",
      "Batch:14  Costo:0.250000 w:[-0.51793492 -0.61013304] dw:[-0.125 -0.125] d:-0.09999999999999998 db:-1.000000\n",
      "Batch:15  Costo:0.250000 w:[-0.39293492 -0.48513304] dw:[0.125 0.125] d:0.9 db:1.000000\n",
      "Batch:16  Costo:0.250000 w:[-0.51793492 -0.61013304] dw:[-0.125 -0.125] d:-0.09999999999999998 db:-1.000000\n",
      "Batch:17  Costo:0.250000 w:[-0.39293492 -0.48513304] dw:[0.125 0.125] d:0.9 db:1.000000\n",
      "Batch:18  Costo:0.250000 w:[-0.51793492 -0.61013304] dw:[-0.125 -0.125] d:-0.09999999999999998 db:-1.000000\n",
      "Batch:19  Costo:0.250000 w:[-0.39293492 -0.48513304] dw:[0.125 0.125] d:0.9 db:1.000000\n",
      "Batch:20  Costo:0.250000 w:[-0.51793492 -0.61013304] dw:[-0.125 -0.125] d:-0.09999999999999998 db:-1.000000\n",
      "Batch:21  Costo:0.250000 w:[-0.39293492 -0.48513304] dw:[0.125 0.125] d:0.9 db:1.000000\n",
      "Batch:22  Costo:0.250000 w:[-0.51793492 -0.61013304] dw:[-0.125 -0.125] d:-0.09999999999999998 db:-1.000000\n",
      "Batch:23  Costo:0.250000 w:[-0.39293492 -0.48513304] dw:[0.125 0.125] d:0.9 db:1.000000\n",
      "Batch:24  Costo:0.250000 w:[-0.51793492 -0.61013304] dw:[-0.125 -0.125] d:-0.09999999999999998 db:-1.000000\n",
      "Batch:25  Costo:0.250000 w:[-0.39293492 -0.48513304] dw:[0.125 0.125] d:0.9 db:1.000000\n",
      "Batch:26  Costo:0.250000 w:[-0.51793492 -0.61013304] dw:[-0.125 -0.125] d:-0.09999999999999998 db:-1.000000\n",
      "Batch:27  Costo:0.250000 w:[-0.39293492 -0.48513304] dw:[0.125 0.125] d:0.9 db:1.000000\n",
      "Batch:28  Costo:0.250000 w:[-0.51793492 -0.61013304] dw:[-0.125 -0.125] d:-0.09999999999999998 db:-1.000000\n",
      "Batch:29  Costo:0.250000 w:[-0.39293492 -0.48513304] dw:[0.125 0.125] d:0.9 db:1.000000\n",
      "Batch:30  Costo:0.250000 w:[-0.51793492 -0.61013304] dw:[-0.125 -0.125] d:-0.09999999999999998 db:-1.000000\n",
      "Batch:31  Costo:0.250000 w:[-0.39293492 -0.48513304] dw:[0.125 0.125] d:0.9 db:1.000000\n",
      "Batch:32  Costo:0.250000 w:[-0.51793492 -0.61013304] dw:[-0.125 -0.125] d:-0.09999999999999998 db:-1.000000\n",
      "Batch:33  Costo:0.250000 w:[-0.39293492 -0.48513304] dw:[0.125 0.125] d:0.9 db:1.000000\n",
      "Batch:34  Costo:0.250000 w:[-0.51793492 -0.61013304] dw:[-0.125 -0.125] d:-0.09999999999999998 db:-1.000000\n",
      "Batch:35  Costo:0.250000 w:[-0.39293492 -0.48513304] dw:[0.125 0.125] d:0.9 db:1.000000\n",
      "Batch:36  Costo:0.250000 w:[-0.51793492 -0.61013304] dw:[-0.125 -0.125] d:-0.09999999999999998 db:-1.000000\n",
      "Batch:37  Costo:0.250000 w:[-0.39293492 -0.48513304] dw:[0.125 0.125] d:0.9 db:1.000000\n",
      "Batch:38  Costo:0.250000 w:[-0.51793492 -0.61013304] dw:[-0.125 -0.125] d:-0.09999999999999998 db:-1.000000\n",
      "Batch:39  Costo:0.250000 w:[-0.39293492 -0.48513304] dw:[0.125 0.125] d:0.9 db:1.000000\n",
      "Batch:40  Costo:0.250000 w:[-0.51793492 -0.61013304] dw:[-0.125 -0.125] d:-0.09999999999999998 db:-1.000000\n",
      "Batch:41  Costo:0.250000 w:[-0.39293492 -0.48513304] dw:[0.125 0.125] d:0.9 db:1.000000\n",
      "Batch:42  Costo:0.250000 w:[-0.51793492 -0.61013304] dw:[-0.125 -0.125] d:-0.09999999999999998 db:-1.000000\n",
      "Batch:43  Costo:0.250000 w:[-0.39293492 -0.48513304] dw:[0.125 0.125] d:0.9 db:1.000000\n",
      "Batch:44  Costo:0.250000 w:[-0.51793492 -0.61013304] dw:[-0.125 -0.125] d:-0.09999999999999998 db:-1.000000\n",
      "Batch:45  Costo:0.250000 w:[-0.39293492 -0.48513304] dw:[0.125 0.125] d:0.9 db:1.000000\n",
      "Batch:46  Costo:0.250000 w:[-0.51793492 -0.61013304] dw:[-0.125 -0.125] d:-0.09999999999999998 db:-1.000000\n",
      "Batch:47  Costo:0.250000 w:[-0.39293492 -0.48513304] dw:[0.125 0.125] d:0.9 db:1.000000\n",
      "Batch:48  Costo:0.250000 w:[-0.51793492 -0.61013304] dw:[-0.125 -0.125] d:-0.09999999999999998 db:-1.000000\n",
      "Batch:49  Costo:0.250000 w:[-0.39293492 -0.48513304] dw:[0.125 0.125] d:0.9 db:1.000000\n",
      "Batch:50  Costo:0.250000 w:[-0.51793492 -0.61013304] dw:[-0.125 -0.125] d:-0.09999999999999998 db:-1.000000\n",
      "Batch:51  Costo:0.250000 w:[-0.39293492 -0.48513304] dw:[0.125 0.125] d:0.9 db:1.000000\n",
      "Batch:52  Costo:0.250000 w:[-0.51793492 -0.61013304] dw:[-0.125 -0.125] d:-0.09999999999999998 db:-1.000000\n",
      "Batch:53  Costo:0.250000 w:[-0.39293492 -0.48513304] dw:[0.125 0.125] d:0.9 db:1.000000\n",
      "Batch:54  Costo:0.250000 w:[-0.51793492 -0.61013304] dw:[-0.125 -0.125] d:-0.09999999999999998 db:-1.000000\n",
      "Batch:55  Costo:0.250000 w:[-0.39293492 -0.48513304] dw:[0.125 0.125] d:0.9 db:1.000000\n",
      "Batch:56  Costo:0.250000 w:[-0.51793492 -0.61013304] dw:[-0.125 -0.125] d:-0.09999999999999998 db:-1.000000\n",
      "Batch:57  Costo:0.250000 w:[-0.39293492 -0.48513304] dw:[0.125 0.125] d:0.9 db:1.000000\n",
      "Batch:58  Costo:0.250000 w:[-0.51793492 -0.61013304] dw:[-0.125 -0.125] d:-0.09999999999999998 db:-1.000000\n",
      "Batch:59  Costo:0.250000 w:[-0.39293492 -0.48513304] dw:[0.125 0.125] d:0.9 db:1.000000\n",
      "Batch:60  Costo:0.250000 w:[-0.51793492 -0.61013304] dw:[-0.125 -0.125] d:-0.09999999999999998 db:-1.000000\n",
      "Batch:61  Costo:0.250000 w:[-0.39293492 -0.48513304] dw:[0.125 0.125] d:0.9 db:1.000000\n",
      "Batch:62  Costo:0.250000 w:[-0.51793492 -0.61013304] dw:[-0.125 -0.125] d:-0.09999999999999998 db:-1.000000\n",
      "Batch:63  Costo:0.250000 w:[-0.39293492 -0.48513304] dw:[0.125 0.125] d:0.9 db:1.000000\n",
      "Batch:64  Costo:0.250000 w:[-0.51793492 -0.61013304] dw:[-0.125 -0.125] d:-0.09999999999999998 db:-1.000000\n",
      "Batch:65  Costo:0.250000 w:[-0.39293492 -0.48513304] dw:[0.125 0.125] d:0.9 db:1.000000\n",
      "Batch:66  Costo:0.250000 w:[-0.51793492 -0.61013304] dw:[-0.125 -0.125] d:-0.09999999999999998 db:-1.000000\n",
      "Batch:67  Costo:0.250000 w:[-0.39293492 -0.48513304] dw:[0.125 0.125] d:0.9 db:1.000000\n",
      "Batch:68  Costo:0.250000 w:[-0.51793492 -0.61013304] dw:[-0.125 -0.125] d:-0.09999999999999998 db:-1.000000\n",
      "Batch:69  Costo:0.250000 w:[-0.39293492 -0.48513304] dw:[0.125 0.125] d:0.9 db:1.000000\n",
      "Batch:70  Costo:0.250000 w:[-0.51793492 -0.61013304] dw:[-0.125 -0.125] d:-0.09999999999999998 db:-1.000000\n",
      "Batch:71  Costo:0.250000 w:[-0.39293492 -0.48513304] dw:[0.125 0.125] d:0.9 db:1.000000\n",
      "Batch:72  Costo:0.250000 w:[-0.51793492 -0.61013304] dw:[-0.125 -0.125] d:-0.09999999999999998 db:-1.000000\n",
      "Batch:73  Costo:0.250000 w:[-0.39293492 -0.48513304] dw:[0.125 0.125] d:0.9 db:1.000000\n",
      "Batch:74  Costo:0.250000 w:[-0.51793492 -0.61013304] dw:[-0.125 -0.125] d:-0.09999999999999998 db:-1.000000\n",
      "Batch:75  Costo:0.250000 w:[-0.39293492 -0.48513304] dw:[0.125 0.125] d:0.9 db:1.000000\n",
      "Batch:76  Costo:0.250000 w:[-0.51793492 -0.61013304] dw:[-0.125 -0.125] d:-0.09999999999999998 db:-1.000000\n",
      "Batch:77  Costo:0.250000 w:[-0.39293492 -0.48513304] dw:[0.125 0.125] d:0.9 db:1.000000\n",
      "Batch:78  Costo:0.250000 w:[-0.51793492 -0.61013304] dw:[-0.125 -0.125] d:-0.09999999999999998 db:-1.000000\n",
      "Batch:79  Costo:0.250000 w:[-0.39293492 -0.48513304] dw:[0.125 0.125] d:0.9 db:1.000000\n",
      "Batch:80  Costo:0.250000 w:[-0.51793492 -0.61013304] dw:[-0.125 -0.125] d:-0.09999999999999998 db:-1.000000\n",
      "Batch:81  Costo:0.250000 w:[-0.39293492 -0.48513304] dw:[0.125 0.125] d:0.9 db:1.000000\n",
      "Batch:82  Costo:0.250000 w:[-0.51793492 -0.61013304] dw:[-0.125 -0.125] d:-0.09999999999999998 db:-1.000000\n",
      "Batch:83  Costo:0.250000 w:[-0.39293492 -0.48513304] dw:[0.125 0.125] d:0.9 db:1.000000\n",
      "Batch:84  Costo:0.250000 w:[-0.51793492 -0.61013304] dw:[-0.125 -0.125] d:-0.09999999999999998 db:-1.000000\n",
      "Batch:85  Costo:0.250000 w:[-0.39293492 -0.48513304] dw:[0.125 0.125] d:0.9 db:1.000000\n",
      "Batch:86  Costo:0.250000 w:[-0.51793492 -0.61013304] dw:[-0.125 -0.125] d:-0.09999999999999998 db:-1.000000\n",
      "Batch:87  Costo:0.250000 w:[-0.39293492 -0.48513304] dw:[0.125 0.125] d:0.9 db:1.000000\n",
      "Batch:88  Costo:0.250000 w:[-0.51793492 -0.61013304] dw:[-0.125 -0.125] d:-0.09999999999999998 db:-1.000000\n",
      "Batch:89  Costo:0.250000 w:[-0.39293492 -0.48513304] dw:[0.125 0.125] d:0.9 db:1.000000\n",
      "Batch:90  Costo:0.250000 w:[-0.51793492 -0.61013304] dw:[-0.125 -0.125] d:-0.09999999999999998 db:-1.000000\n",
      "Batch:91  Costo:0.250000 w:[-0.39293492 -0.48513304] dw:[0.125 0.125] d:0.9 db:1.000000\n",
      "Batch:92  Costo:0.250000 w:[-0.51793492 -0.61013304] dw:[-0.125 -0.125] d:-0.09999999999999998 db:-1.000000\n",
      "Batch:93  Costo:0.250000 w:[-0.39293492 -0.48513304] dw:[0.125 0.125] d:0.9 db:1.000000\n",
      "Batch:94  Costo:0.250000 w:[-0.51793492 -0.61013304] dw:[-0.125 -0.125] d:-0.09999999999999998 db:-1.000000\n",
      "Batch:95  Costo:0.250000 w:[-0.39293492 -0.48513304] dw:[0.125 0.125] d:0.9 db:1.000000\n",
      "Batch:96  Costo:0.250000 w:[-0.51793492 -0.61013304] dw:[-0.125 -0.125] d:-0.09999999999999998 db:-1.000000\n",
      "Batch:97  Costo:0.250000 w:[-0.39293492 -0.48513304] dw:[0.125 0.125] d:0.9 db:1.000000\n",
      "Batch:98  Costo:0.250000 w:[-0.51793492 -0.61013304] dw:[-0.125 -0.125] d:-0.09999999999999998 db:-1.000000\n",
      "Batch:99  Costo:0.250000 w:[-0.39293492 -0.48513304] dw:[0.125 0.125] d:0.9 db:1.000000\n",
      "Batch:100  Costo:0.250000 w:[-0.51793492 -0.61013304] dw:[-0.125 -0.125] d:-0.09999999999999998 db:-1.000000\n",
      "Batch:101  Costo:0.250000 w:[-0.39293492 -0.48513304] dw:[0.125 0.125] d:0.9 db:1.000000\n",
      "Batch:102  Costo:0.250000 w:[-0.51793492 -0.61013304] dw:[-0.125 -0.125] d:-0.09999999999999998 db:-1.000000\n",
      "Batch:103  Costo:0.250000 w:[-0.39293492 -0.48513304] dw:[0.125 0.125] d:0.9 db:1.000000\n",
      "Batch:104  Costo:0.250000 w:[-0.51793492 -0.61013304] dw:[-0.125 -0.125] d:-0.09999999999999998 db:-1.000000\n",
      "Batch:105  Costo:0.250000 w:[-0.39293492 -0.48513304] dw:[0.125 0.125] d:0.9 db:1.000000\n",
      "Batch:106  Costo:0.250000 w:[-0.51793492 -0.61013304] dw:[-0.125 -0.125] d:-0.09999999999999998 db:-1.000000\n",
      "Batch:107  Costo:0.250000 w:[-0.39293492 -0.48513304] dw:[0.125 0.125] d:0.9 db:1.000000\n",
      "Batch:108  Costo:0.250000 w:[-0.51793492 -0.61013304] dw:[-0.125 -0.125] d:-0.09999999999999998 db:-1.000000\n",
      "Batch:109  Costo:0.250000 w:[-0.39293492 -0.48513304] dw:[0.125 0.125] d:0.9 db:1.000000\n",
      "Batch:110  Costo:0.250000 w:[-0.51793492 -0.61013304] dw:[-0.125 -0.125] d:-0.09999999999999998 db:-1.000000\n",
      "Batch:111  Costo:0.250000 w:[-0.39293492 -0.48513304] dw:[0.125 0.125] d:0.9 db:1.000000\n",
      "Batch:112  Costo:0.250000 w:[-0.51793492 -0.61013304] dw:[-0.125 -0.125] d:-0.09999999999999998 db:-1.000000\n",
      "Batch:113  Costo:0.250000 w:[-0.39293492 -0.48513304] dw:[0.125 0.125] d:0.9 db:1.000000\n",
      "Batch:114  Costo:0.250000 w:[-0.51793492 -0.61013304] dw:[-0.125 -0.125] d:-0.09999999999999998 db:-1.000000\n",
      "Batch:115  Costo:0.250000 w:[-0.39293492 -0.48513304] dw:[0.125 0.125] d:0.9 db:1.000000\n",
      "Batch:116  Costo:0.250000 w:[-0.51793492 -0.61013304] dw:[-0.125 -0.125] d:-0.09999999999999998 db:-1.000000\n",
      "Batch:117  Costo:0.250000 w:[-0.39293492 -0.48513304] dw:[0.125 0.125] d:0.9 db:1.000000\n",
      "Batch:118  Costo:0.250000 w:[-0.51793492 -0.61013304] dw:[-0.125 -0.125] d:-0.09999999999999998 db:-1.000000\n",
      "Batch:119  Costo:0.250000 w:[-0.39293492 -0.48513304] dw:[0.125 0.125] d:0.9 db:1.000000\n",
      "Batch:120  Costo:0.250000 w:[-0.51793492 -0.61013304] dw:[-0.125 -0.125] d:-0.09999999999999998 db:-1.000000\n",
      "Batch:121  Costo:0.250000 w:[-0.39293492 -0.48513304] dw:[0.125 0.125] d:0.9 db:1.000000\n",
      "Batch:122  Costo:0.250000 w:[-0.51793492 -0.61013304] dw:[-0.125 -0.125] d:-0.09999999999999998 db:-1.000000\n",
      "Batch:123  Costo:0.250000 w:[-0.39293492 -0.48513304] dw:[0.125 0.125] d:0.9 db:1.000000\n",
      "Batch:124  Costo:0.250000 w:[-0.51793492 -0.61013304] dw:[-0.125 -0.125] d:-0.09999999999999998 db:-1.000000\n",
      "Batch:125  Costo:0.250000 w:[-0.39293492 -0.48513304] dw:[0.125 0.125] d:0.9 db:1.000000\n",
      "Batch:126  Costo:0.250000 w:[-0.51793492 -0.61013304] dw:[-0.125 -0.125] d:-0.09999999999999998 db:-1.000000\n",
      "Batch:127  Costo:0.250000 w:[-0.39293492 -0.48513304] dw:[0.125 0.125] d:0.9 db:1.000000\n",
      "Batch:128  Costo:0.250000 w:[-0.51793492 -0.61013304] dw:[-0.125 -0.125] d:-0.09999999999999998 db:-1.000000\n",
      "Batch:129  Costo:0.250000 w:[-0.39293492 -0.48513304] dw:[0.125 0.125] d:0.9 db:1.000000\n",
      "Batch:130  Costo:0.250000 w:[-0.51793492 -0.61013304] dw:[-0.125 -0.125] d:-0.09999999999999998 db:-1.000000\n",
      "Batch:131  Costo:0.250000 w:[-0.39293492 -0.48513304] dw:[0.125 0.125] d:0.9 db:1.000000\n",
      "Batch:132  Costo:0.250000 w:[-0.51793492 -0.61013304] dw:[-0.125 -0.125] d:-0.09999999999999998 db:-1.000000\n",
      "Batch:133  Costo:0.250000 w:[-0.39293492 -0.48513304] dw:[0.125 0.125] d:0.9 db:1.000000\n",
      "Batch:134  Costo:0.250000 w:[-0.51793492 -0.61013304] dw:[-0.125 -0.125] d:-0.09999999999999998 db:-1.000000\n",
      "Batch:135  Costo:0.250000 w:[-0.39293492 -0.48513304] dw:[0.125 0.125] d:0.9 db:1.000000\n",
      "Batch:136  Costo:0.250000 w:[-0.51793492 -0.61013304] dw:[-0.125 -0.125] d:-0.09999999999999998 db:-1.000000\n",
      "Batch:137  Costo:0.250000 w:[-0.39293492 -0.48513304] dw:[0.125 0.125] d:0.9 db:1.000000\n",
      "Batch:138  Costo:0.250000 w:[-0.51793492 -0.61013304] dw:[-0.125 -0.125] d:-0.09999999999999998 db:-1.000000\n",
      "Batch:139  Costo:0.250000 w:[-0.39293492 -0.48513304] dw:[0.125 0.125] d:0.9 db:1.000000\n",
      "Batch:140  Costo:0.250000 w:[-0.51793492 -0.61013304] dw:[-0.125 -0.125] d:-0.09999999999999998 db:-1.000000\n",
      "Batch:141  Costo:0.250000 w:[-0.39293492 -0.48513304] dw:[0.125 0.125] d:0.9 db:1.000000\n",
      "Batch:142  Costo:0.250000 w:[-0.51793492 -0.61013304] dw:[-0.125 -0.125] d:-0.09999999999999998 db:-1.000000\n",
      "Batch:143  Costo:0.250000 w:[-0.39293492 -0.48513304] dw:[0.125 0.125] d:0.9 db:1.000000\n",
      "Batch:144  Costo:0.250000 w:[-0.51793492 -0.61013304] dw:[-0.125 -0.125] d:-0.09999999999999998 db:-1.000000\n",
      "Batch:145  Costo:0.250000 w:[-0.39293492 -0.48513304] dw:[0.125 0.125] d:0.9 db:1.000000\n",
      "Batch:146  Costo:0.250000 w:[-0.51793492 -0.61013304] dw:[-0.125 -0.125] d:-0.09999999999999998 db:-1.000000\n",
      "Batch:147  Costo:0.250000 w:[-0.39293492 -0.48513304] dw:[0.125 0.125] d:0.9 db:1.000000\n",
      "Batch:148  Costo:0.250000 w:[-0.51793492 -0.61013304] dw:[-0.125 -0.125] d:-0.09999999999999998 db:-1.000000\n",
      "Batch:149  Costo:0.250000 w:[-0.39293492 -0.48513304] dw:[0.125 0.125] d:0.9 db:1.000000\n",
      "Batch:150  Costo:0.250000 w:[-0.51793492 -0.61013304] dw:[-0.125 -0.125] d:-0.09999999999999998 db:-1.000000\n",
      "Batch:151  Costo:0.250000 w:[-0.39293492 -0.48513304] dw:[0.125 0.125] d:0.9 db:1.000000\n",
      "Batch:152  Costo:0.250000 w:[-0.51793492 -0.61013304] dw:[-0.125 -0.125] d:-0.09999999999999998 db:-1.000000\n",
      "Batch:153  Costo:0.250000 w:[-0.39293492 -0.48513304] dw:[0.125 0.125] d:0.9 db:1.000000\n",
      "Batch:154  Costo:0.250000 w:[-0.51793492 -0.61013304] dw:[-0.125 -0.125] d:-0.09999999999999998 db:-1.000000\n",
      "Batch:155  Costo:0.250000 w:[-0.39293492 -0.48513304] dw:[0.125 0.125] d:0.9 db:1.000000\n",
      "Batch:156  Costo:0.250000 w:[-0.51793492 -0.61013304] dw:[-0.125 -0.125] d:-0.09999999999999998 db:-1.000000\n",
      "Batch:157  Costo:0.250000 w:[-0.39293492 -0.48513304] dw:[0.125 0.125] d:0.9 db:1.000000\n",
      "Batch:158  Costo:0.250000 w:[-0.51793492 -0.61013304] dw:[-0.125 -0.125] d:-0.09999999999999998 db:-1.000000\n",
      "Batch:159  Costo:0.250000 w:[-0.39293492 -0.48513304] dw:[0.125 0.125] d:0.9 db:1.000000\n",
      "Batch:160  Costo:0.250000 w:[-0.51793492 -0.61013304] dw:[-0.125 -0.125] d:-0.09999999999999998 db:-1.000000\n",
      "Batch:161  Costo:0.250000 w:[-0.39293492 -0.48513304] dw:[0.125 0.125] d:0.9 db:1.000000\n",
      "Batch:162  Costo:0.250000 w:[-0.51793492 -0.61013304] dw:[-0.125 -0.125] d:-0.09999999999999998 db:-1.000000\n",
      "Batch:163  Costo:0.250000 w:[-0.39293492 -0.48513304] dw:[0.125 0.125] d:0.9 db:1.000000\n",
      "Batch:164  Costo:0.250000 w:[-0.51793492 -0.61013304] dw:[-0.125 -0.125] d:-0.09999999999999998 db:-1.000000\n",
      "Batch:165  Costo:0.250000 w:[-0.39293492 -0.48513304] dw:[0.125 0.125] d:0.9 db:1.000000\n",
      "Batch:166  Costo:0.250000 w:[-0.51793492 -0.61013304] dw:[-0.125 -0.125] d:-0.09999999999999998 db:-1.000000\n",
      "Batch:167  Costo:0.250000 w:[-0.39293492 -0.48513304] dw:[0.125 0.125] d:0.9 db:1.000000\n",
      "Batch:168  Costo:0.250000 w:[-0.51793492 -0.61013304] dw:[-0.125 -0.125] d:-0.09999999999999998 db:-1.000000\n",
      "Batch:169  Costo:0.250000 w:[-0.39293492 -0.48513304] dw:[0.125 0.125] d:0.9 db:1.000000\n",
      "Batch:170  Costo:0.250000 w:[-0.51793492 -0.61013304] dw:[-0.125 -0.125] d:-0.09999999999999998 db:-1.000000\n",
      "Batch:171  Costo:0.250000 w:[-0.39293492 -0.48513304] dw:[0.125 0.125] d:0.9 db:1.000000\n",
      "Batch:172  Costo:0.250000 w:[-0.51793492 -0.61013304] dw:[-0.125 -0.125] d:-0.09999999999999998 db:-1.000000\n",
      "Batch:173  Costo:0.250000 w:[-0.39293492 -0.48513304] dw:[0.125 0.125] d:0.9 db:1.000000\n",
      "Batch:174  Costo:0.250000 w:[-0.51793492 -0.61013304] dw:[-0.125 -0.125] d:-0.09999999999999998 db:-1.000000\n",
      "Batch:175  Costo:0.250000 w:[-0.39293492 -0.48513304] dw:[0.125 0.125] d:0.9 db:1.000000\n",
      "Batch:176  Costo:0.250000 w:[-0.51793492 -0.61013304] dw:[-0.125 -0.125] d:-0.09999999999999998 db:-1.000000\n",
      "Batch:177  Costo:0.250000 w:[-0.39293492 -0.48513304] dw:[0.125 0.125] d:0.9 db:1.000000\n",
      "Batch:178  Costo:0.250000 w:[-0.51793492 -0.61013304] dw:[-0.125 -0.125] d:-0.09999999999999998 db:-1.000000\n",
      "Batch:179  Costo:0.250000 w:[-0.39293492 -0.48513304] dw:[0.125 0.125] d:0.9 db:1.000000\n",
      "Batch:180  Costo:0.250000 w:[-0.51793492 -0.61013304] dw:[-0.125 -0.125] d:-0.09999999999999998 db:-1.000000\n",
      "Batch:181  Costo:0.250000 w:[-0.39293492 -0.48513304] dw:[0.125 0.125] d:0.9 db:1.000000\n",
      "Batch:182  Costo:0.250000 w:[-0.51793492 -0.61013304] dw:[-0.125 -0.125] d:-0.09999999999999998 db:-1.000000\n",
      "Batch:183  Costo:0.250000 w:[-0.39293492 -0.48513304] dw:[0.125 0.125] d:0.9 db:1.000000\n",
      "Batch:184  Costo:0.250000 w:[-0.51793492 -0.61013304] dw:[-0.125 -0.125] d:-0.09999999999999998 db:-1.000000\n",
      "Batch:185  Costo:0.250000 w:[-0.39293492 -0.48513304] dw:[0.125 0.125] d:0.9 db:1.000000\n",
      "Batch:186  Costo:0.250000 w:[-0.51793492 -0.61013304] dw:[-0.125 -0.125] d:-0.09999999999999998 db:-1.000000\n",
      "Batch:187  Costo:0.250000 w:[-0.39293492 -0.48513304] dw:[0.125 0.125] d:0.9 db:1.000000\n",
      "Batch:188  Costo:0.250000 w:[-0.51793492 -0.61013304] dw:[-0.125 -0.125] d:-0.09999999999999998 db:-1.000000\n",
      "Batch:189  Costo:0.250000 w:[-0.39293492 -0.48513304] dw:[0.125 0.125] d:0.9 db:1.000000\n",
      "Batch:190  Costo:0.250000 w:[-0.51793492 -0.61013304] dw:[-0.125 -0.125] d:-0.09999999999999998 db:-1.000000\n",
      "Batch:191  Costo:0.250000 w:[-0.39293492 -0.48513304] dw:[0.125 0.125] d:0.9 db:1.000000\n",
      "Batch:192  Costo:0.250000 w:[-0.51793492 -0.61013304] dw:[-0.125 -0.125] d:-0.09999999999999998 db:-1.000000\n",
      "Batch:193  Costo:0.250000 w:[-0.39293492 -0.48513304] dw:[0.125 0.125] d:0.9 db:1.000000\n",
      "Batch:194  Costo:0.250000 w:[-0.51793492 -0.61013304] dw:[-0.125 -0.125] d:-0.09999999999999998 db:-1.000000\n",
      "Batch:195  Costo:0.250000 w:[-0.39293492 -0.48513304] dw:[0.125 0.125] d:0.9 db:1.000000\n",
      "Batch:196  Costo:0.250000 w:[-0.51793492 -0.61013304] dw:[-0.125 -0.125] d:-0.09999999999999998 db:-1.000000\n",
      "Batch:197  Costo:0.250000 w:[-0.39293492 -0.48513304] dw:[0.125 0.125] d:0.9 db:1.000000\n",
      "Batch:198  Costo:0.250000 w:[-0.51793492 -0.61013304] dw:[-0.125 -0.125] d:-0.09999999999999998 db:-1.000000\n",
      "Batch:199  Costo:0.250000 w:[-0.39293492 -0.48513304] dw:[0.125 0.125] d:0.9 db:1.000000\n",
      "Batch:200  Costo:0.250000 w:[-0.51793492 -0.61013304] dw:[-0.125 -0.125] d:-0.09999999999999998 db:-1.000000\n",
      "Batch:201  Costo:0.250000 w:[-0.39293492 -0.48513304] dw:[0.125 0.125] d:0.9 db:1.000000\n",
      "Batch:202  Costo:0.250000 w:[-0.51793492 -0.61013304] dw:[-0.125 -0.125] d:-0.09999999999999998 db:-1.000000\n",
      "Batch:203  Costo:0.250000 w:[-0.39293492 -0.48513304] dw:[0.125 0.125] d:0.9 db:1.000000\n",
      "Batch:204  Costo:0.250000 w:[-0.51793492 -0.61013304] dw:[-0.125 -0.125] d:-0.09999999999999998 db:-1.000000\n",
      "Batch:205  Costo:0.250000 w:[-0.39293492 -0.48513304] dw:[0.125 0.125] d:0.9 db:1.000000\n",
      "Batch:206  Costo:0.250000 w:[-0.51793492 -0.61013304] dw:[-0.125 -0.125] d:-0.09999999999999998 db:-1.000000\n",
      "Batch:207  Costo:0.250000 w:[-0.39293492 -0.48513304] dw:[0.125 0.125] d:0.9 db:1.000000\n",
      "Batch:208  Costo:0.250000 w:[-0.51793492 -0.61013304] dw:[-0.125 -0.125] d:-0.09999999999999998 db:-1.000000\n",
      "Batch:209  Costo:0.250000 w:[-0.39293492 -0.48513304] dw:[0.125 0.125] d:0.9 db:1.000000\n",
      "Batch:210  Costo:0.250000 w:[-0.51793492 -0.61013304] dw:[-0.125 -0.125] d:-0.09999999999999998 db:-1.000000\n",
      "Batch:211  Costo:0.250000 w:[-0.39293492 -0.48513304] dw:[0.125 0.125] d:0.9 db:1.000000\n",
      "Batch:212  Costo:0.250000 w:[-0.51793492 -0.61013304] dw:[-0.125 -0.125] d:-0.09999999999999998 db:-1.000000\n",
      "Batch:213  Costo:0.250000 w:[-0.39293492 -0.48513304] dw:[0.125 0.125] d:0.9 db:1.000000\n",
      "Batch:214  Costo:0.250000 w:[-0.51793492 -0.61013304] dw:[-0.125 -0.125] d:-0.09999999999999998 db:-1.000000\n",
      "Batch:215  Costo:0.250000 w:[-0.39293492 -0.48513304] dw:[0.125 0.125] d:0.9 db:1.000000\n",
      "Batch:216  Costo:0.250000 w:[-0.51793492 -0.61013304] dw:[-0.125 -0.125] d:-0.09999999999999998 db:-1.000000\n",
      "Batch:217  Costo:0.250000 w:[-0.39293492 -0.48513304] dw:[0.125 0.125] d:0.9 db:1.000000\n",
      "Batch:218  Costo:0.250000 w:[-0.51793492 -0.61013304] dw:[-0.125 -0.125] d:-0.09999999999999998 db:-1.000000\n",
      "Batch:219  Costo:0.250000 w:[-0.39293492 -0.48513304] dw:[0.125 0.125] d:0.9 db:1.000000\n",
      "Batch:220  Costo:0.250000 w:[-0.51793492 -0.61013304] dw:[-0.125 -0.125] d:-0.09999999999999998 db:-1.000000\n",
      "Batch:221  Costo:0.250000 w:[-0.39293492 -0.48513304] dw:[0.125 0.125] d:0.9 db:1.000000\n",
      "Batch:222  Costo:0.250000 w:[-0.51793492 -0.61013304] dw:[-0.125 -0.125] d:-0.09999999999999998 db:-1.000000\n",
      "Batch:223  Costo:0.250000 w:[-0.39293492 -0.48513304] dw:[0.125 0.125] d:0.9 db:1.000000\n",
      "Batch:224  Costo:0.250000 w:[-0.51793492 -0.61013304] dw:[-0.125 -0.125] d:-0.09999999999999998 db:-1.000000\n",
      "Batch:225  Costo:0.250000 w:[-0.39293492 -0.48513304] dw:[0.125 0.125] d:0.9 db:1.000000\n",
      "Batch:226  Costo:0.250000 w:[-0.51793492 -0.61013304] dw:[-0.125 -0.125] d:-0.09999999999999998 db:-1.000000\n",
      "Batch:227  Costo:0.250000 w:[-0.39293492 -0.48513304] dw:[0.125 0.125] d:0.9 db:1.000000\n",
      "Batch:228  Costo:0.250000 w:[-0.51793492 -0.61013304] dw:[-0.125 -0.125] d:-0.09999999999999998 db:-1.000000\n",
      "Batch:229  Costo:0.250000 w:[-0.39293492 -0.48513304] dw:[0.125 0.125] d:0.9 db:1.000000\n",
      "Batch:230  Costo:0.250000 w:[-0.51793492 -0.61013304] dw:[-0.125 -0.125] d:-0.09999999999999998 db:-1.000000\n",
      "Batch:231  Costo:0.250000 w:[-0.39293492 -0.48513304] dw:[0.125 0.125] d:0.9 db:1.000000\n",
      "Batch:232  Costo:0.250000 w:[-0.51793492 -0.61013304] dw:[-0.125 -0.125] d:-0.09999999999999998 db:-1.000000\n",
      "Batch:233  Costo:0.250000 w:[-0.39293492 -0.48513304] dw:[0.125 0.125] d:0.9 db:1.000000\n",
      "Batch:234  Costo:0.250000 w:[-0.51793492 -0.61013304] dw:[-0.125 -0.125] d:-0.09999999999999998 db:-1.000000\n",
      "Batch:235  Costo:0.250000 w:[-0.39293492 -0.48513304] dw:[0.125 0.125] d:0.9 db:1.000000\n",
      "Batch:236  Costo:0.250000 w:[-0.51793492 -0.61013304] dw:[-0.125 -0.125] d:-0.09999999999999998 db:-1.000000\n",
      "Batch:237  Costo:0.250000 w:[-0.39293492 -0.48513304] dw:[0.125 0.125] d:0.9 db:1.000000\n",
      "Batch:238  Costo:0.250000 w:[-0.51793492 -0.61013304] dw:[-0.125 -0.125] d:-0.09999999999999998 db:-1.000000\n",
      "Batch:239  Costo:0.250000 w:[-0.39293492 -0.48513304] dw:[0.125 0.125] d:0.9 db:1.000000\n",
      "Batch:240  Costo:0.250000 w:[-0.51793492 -0.61013304] dw:[-0.125 -0.125] d:-0.09999999999999998 db:-1.000000\n",
      "Batch:241  Costo:0.250000 w:[-0.39293492 -0.48513304] dw:[0.125 0.125] d:0.9 db:1.000000\n",
      "Batch:242  Costo:0.250000 w:[-0.51793492 -0.61013304] dw:[-0.125 -0.125] d:-0.09999999999999998 db:-1.000000\n",
      "Batch:243  Costo:0.250000 w:[-0.39293492 -0.48513304] dw:[0.125 0.125] d:0.9 db:1.000000\n",
      "Batch:244  Costo:0.250000 w:[-0.51793492 -0.61013304] dw:[-0.125 -0.125] d:-0.09999999999999998 db:-1.000000\n",
      "Batch:245  Costo:0.250000 w:[-0.39293492 -0.48513304] dw:[0.125 0.125] d:0.9 db:1.000000\n",
      "Batch:246  Costo:0.250000 w:[-0.51793492 -0.61013304] dw:[-0.125 -0.125] d:-0.09999999999999998 db:-1.000000\n",
      "Batch:247  Costo:0.250000 w:[-0.39293492 -0.48513304] dw:[0.125 0.125] d:0.9 db:1.000000\n",
      "Batch:248  Costo:0.250000 w:[-0.51793492 -0.61013304] dw:[-0.125 -0.125] d:-0.09999999999999998 db:-1.000000\n",
      "Batch:249  Costo:0.250000 w:[-0.39293492 -0.48513304] dw:[0.125 0.125] d:0.9 db:1.000000\n",
      "Batch:250  Costo:0.250000 w:[-0.51793492 -0.61013304] dw:[-0.125 -0.125] d:-0.09999999999999998 db:-1.000000\n",
      "Batch:251  Costo:0.250000 w:[-0.39293492 -0.48513304] dw:[0.125 0.125] d:0.9 db:1.000000\n",
      "Batch:252  Costo:0.250000 w:[-0.51793492 -0.61013304] dw:[-0.125 -0.125] d:-0.09999999999999998 db:-1.000000\n",
      "Batch:253  Costo:0.250000 w:[-0.39293492 -0.48513304] dw:[0.125 0.125] d:0.9 db:1.000000\n",
      "Batch:254  Costo:0.250000 w:[-0.51793492 -0.61013304] dw:[-0.125 -0.125] d:-0.09999999999999998 db:-1.000000\n",
      "Batch:255  Costo:0.250000 w:[-0.39293492 -0.48513304] dw:[0.125 0.125] d:0.9 db:1.000000\n",
      "Batch:256  Costo:0.250000 w:[-0.51793492 -0.61013304] dw:[-0.125 -0.125] d:-0.09999999999999998 db:-1.000000\n",
      "Batch:257  Costo:0.250000 w:[-0.39293492 -0.48513304] dw:[0.125 0.125] d:0.9 db:1.000000\n",
      "Batch:258  Costo:0.250000 w:[-0.51793492 -0.61013304] dw:[-0.125 -0.125] d:-0.09999999999999998 db:-1.000000\n",
      "Batch:259  Costo:0.250000 w:[-0.39293492 -0.48513304] dw:[0.125 0.125] d:0.9 db:1.000000\n",
      "Batch:260  Costo:0.250000 w:[-0.51793492 -0.61013304] dw:[-0.125 -0.125] d:-0.09999999999999998 db:-1.000000\n",
      "Batch:261  Costo:0.250000 w:[-0.39293492 -0.48513304] dw:[0.125 0.125] d:0.9 db:1.000000\n",
      "Batch:262  Costo:0.250000 w:[-0.51793492 -0.61013304] dw:[-0.125 -0.125] d:-0.09999999999999998 db:-1.000000\n",
      "Batch:263  Costo:0.250000 w:[-0.39293492 -0.48513304] dw:[0.125 0.125] d:0.9 db:1.000000\n",
      "Batch:264  Costo:0.250000 w:[-0.51793492 -0.61013304] dw:[-0.125 -0.125] d:-0.09999999999999998 db:-1.000000\n",
      "Batch:265  Costo:0.250000 w:[-0.39293492 -0.48513304] dw:[0.125 0.125] d:0.9 db:1.000000\n",
      "Batch:266  Costo:0.250000 w:[-0.51793492 -0.61013304] dw:[-0.125 -0.125] d:-0.09999999999999998 db:-1.000000\n",
      "Batch:267  Costo:0.250000 w:[-0.39293492 -0.48513304] dw:[0.125 0.125] d:0.9 db:1.000000\n",
      "Batch:268  Costo:0.250000 w:[-0.51793492 -0.61013304] dw:[-0.125 -0.125] d:-0.09999999999999998 db:-1.000000\n",
      "Batch:269  Costo:0.250000 w:[-0.39293492 -0.48513304] dw:[0.125 0.125] d:0.9 db:1.000000\n",
      "Batch:270  Costo:0.250000 w:[-0.51793492 -0.61013304] dw:[-0.125 -0.125] d:-0.09999999999999998 db:-1.000000\n",
      "Batch:271  Costo:0.250000 w:[-0.39293492 -0.48513304] dw:[0.125 0.125] d:0.9 db:1.000000\n",
      "Batch:272  Costo:0.250000 w:[-0.51793492 -0.61013304] dw:[-0.125 -0.125] d:-0.09999999999999998 db:-1.000000\n",
      "Batch:273  Costo:0.250000 w:[-0.39293492 -0.48513304] dw:[0.125 0.125] d:0.9 db:1.000000\n",
      "Batch:274  Costo:0.250000 w:[-0.51793492 -0.61013304] dw:[-0.125 -0.125] d:-0.09999999999999998 db:-1.000000\n",
      "Batch:275  Costo:0.250000 w:[-0.39293492 -0.48513304] dw:[0.125 0.125] d:0.9 db:1.000000\n",
      "Batch:276  Costo:0.250000 w:[-0.51793492 -0.61013304] dw:[-0.125 -0.125] d:-0.09999999999999998 db:-1.000000\n",
      "Batch:277  Costo:0.250000 w:[-0.39293492 -0.48513304] dw:[0.125 0.125] d:0.9 db:1.000000\n",
      "Batch:278  Costo:0.250000 w:[-0.51793492 -0.61013304] dw:[-0.125 -0.125] d:-0.09999999999999998 db:-1.000000\n",
      "Batch:279  Costo:0.250000 w:[-0.39293492 -0.48513304] dw:[0.125 0.125] d:0.9 db:1.000000\n",
      "Batch:280  Costo:0.250000 w:[-0.51793492 -0.61013304] dw:[-0.125 -0.125] d:-0.09999999999999998 db:-1.000000\n",
      "Batch:281  Costo:0.250000 w:[-0.39293492 -0.48513304] dw:[0.125 0.125] d:0.9 db:1.000000\n",
      "Batch:282  Costo:0.250000 w:[-0.51793492 -0.61013304] dw:[-0.125 -0.125] d:-0.09999999999999998 db:-1.000000\n",
      "Batch:283  Costo:0.250000 w:[-0.39293492 -0.48513304] dw:[0.125 0.125] d:0.9 db:1.000000\n",
      "Batch:284  Costo:0.250000 w:[-0.51793492 -0.61013304] dw:[-0.125 -0.125] d:-0.09999999999999998 db:-1.000000\n",
      "Batch:285  Costo:0.250000 w:[-0.39293492 -0.48513304] dw:[0.125 0.125] d:0.9 db:1.000000\n",
      "Batch:286  Costo:0.250000 w:[-0.51793492 -0.61013304] dw:[-0.125 -0.125] d:-0.09999999999999998 db:-1.000000\n",
      "Batch:287  Costo:0.250000 w:[-0.39293492 -0.48513304] dw:[0.125 0.125] d:0.9 db:1.000000\n",
      "Batch:288  Costo:0.250000 w:[-0.51793492 -0.61013304] dw:[-0.125 -0.125] d:-0.09999999999999998 db:-1.000000\n",
      "Batch:289  Costo:0.250000 w:[-0.39293492 -0.48513304] dw:[0.125 0.125] d:0.9 db:1.000000\n",
      "Batch:290  Costo:0.250000 w:[-0.51793492 -0.61013304] dw:[-0.125 -0.125] d:-0.09999999999999998 db:-1.000000\n",
      "Batch:291  Costo:0.250000 w:[-0.39293492 -0.48513304] dw:[0.125 0.125] d:0.9 db:1.000000\n",
      "Batch:292  Costo:0.250000 w:[-0.51793492 -0.61013304] dw:[-0.125 -0.125] d:-0.09999999999999998 db:-1.000000\n",
      "Batch:293  Costo:0.250000 w:[-0.39293492 -0.48513304] dw:[0.125 0.125] d:0.9 db:1.000000\n",
      "Batch:294  Costo:0.250000 w:[-0.51793492 -0.61013304] dw:[-0.125 -0.125] d:-0.09999999999999998 db:-1.000000\n",
      "Batch:295  Costo:0.250000 w:[-0.39293492 -0.48513304] dw:[0.125 0.125] d:0.9 db:1.000000\n",
      "Batch:296  Costo:0.250000 w:[-0.51793492 -0.61013304] dw:[-0.125 -0.125] d:-0.09999999999999998 db:-1.000000\n",
      "Batch:297  Costo:0.250000 w:[-0.39293492 -0.48513304] dw:[0.125 0.125] d:0.9 db:1.000000\n",
      "Batch:298  Costo:0.250000 w:[-0.51793492 -0.61013304] dw:[-0.125 -0.125] d:-0.09999999999999998 db:-1.000000\n",
      "Batch:299  Costo:0.250000 w:[-0.39293492 -0.48513304] dw:[0.125 0.125] d:0.9 db:1.000000\n",
      "Batch:300  Costo:0.250000 w:[-0.51793492 -0.61013304] dw:[-0.125 -0.125] d:-0.09999999999999998 db:-1.000000\n",
      "Batch:301  Costo:0.250000 w:[-0.39293492 -0.48513304] dw:[0.125 0.125] d:0.9 db:1.000000\n",
      "Batch:302  Costo:0.250000 w:[-0.51793492 -0.61013304] dw:[-0.125 -0.125] d:-0.09999999999999998 db:-1.000000\n",
      "Batch:303  Costo:0.250000 w:[-0.39293492 -0.48513304] dw:[0.125 0.125] d:0.9 db:1.000000\n",
      "Batch:304  Costo:0.250000 w:[-0.51793492 -0.61013304] dw:[-0.125 -0.125] d:-0.09999999999999998 db:-1.000000\n",
      "Batch:305  Costo:0.250000 w:[-0.39293492 -0.48513304] dw:[0.125 0.125] d:0.9 db:1.000000\n",
      "Batch:306  Costo:0.250000 w:[-0.51793492 -0.61013304] dw:[-0.125 -0.125] d:-0.09999999999999998 db:-1.000000\n",
      "Batch:307  Costo:0.250000 w:[-0.39293492 -0.48513304] dw:[0.125 0.125] d:0.9 db:1.000000\n",
      "Batch:308  Costo:0.250000 w:[-0.51793492 -0.61013304] dw:[-0.125 -0.125] d:-0.09999999999999998 db:-1.000000\n",
      "Batch:309  Costo:0.250000 w:[-0.39293492 -0.48513304] dw:[0.125 0.125] d:0.9 db:1.000000\n",
      "Batch:310  Costo:0.250000 w:[-0.51793492 -0.61013304] dw:[-0.125 -0.125] d:-0.09999999999999998 db:-1.000000\n",
      "Batch:311  Costo:0.250000 w:[-0.39293492 -0.48513304] dw:[0.125 0.125] d:0.9 db:1.000000\n",
      "Batch:312  Costo:0.250000 w:[-0.51793492 -0.61013304] dw:[-0.125 -0.125] d:-0.09999999999999998 db:-1.000000\n",
      "Batch:313  Costo:0.250000 w:[-0.39293492 -0.48513304] dw:[0.125 0.125] d:0.9 db:1.000000\n",
      "Batch:314  Costo:0.250000 w:[-0.51793492 -0.61013304] dw:[-0.125 -0.125] d:-0.09999999999999998 db:-1.000000\n",
      "Batch:315  Costo:0.250000 w:[-0.39293492 -0.48513304] dw:[0.125 0.125] d:0.9 db:1.000000\n",
      "Batch:316  Costo:0.250000 w:[-0.51793492 -0.61013304] dw:[-0.125 -0.125] d:-0.09999999999999998 db:-1.000000\n",
      "Batch:317  Costo:0.250000 w:[-0.39293492 -0.48513304] dw:[0.125 0.125] d:0.9 db:1.000000\n",
      "Batch:318  Costo:0.250000 w:[-0.51793492 -0.61013304] dw:[-0.125 -0.125] d:-0.09999999999999998 db:-1.000000\n",
      "Batch:319  Costo:0.250000 w:[-0.39293492 -0.48513304] dw:[0.125 0.125] d:0.9 db:1.000000\n",
      "Batch:320  Costo:0.250000 w:[-0.51793492 -0.61013304] dw:[-0.125 -0.125] d:-0.09999999999999998 db:-1.000000\n",
      "Batch:321  Costo:0.250000 w:[-0.39293492 -0.48513304] dw:[0.125 0.125] d:0.9 db:1.000000\n",
      "Batch:322  Costo:0.250000 w:[-0.51793492 -0.61013304] dw:[-0.125 -0.125] d:-0.09999999999999998 db:-1.000000\n",
      "Batch:323  Costo:0.250000 w:[-0.39293492 -0.48513304] dw:[0.125 0.125] d:0.9 db:1.000000\n",
      "Batch:324  Costo:0.250000 w:[-0.51793492 -0.61013304] dw:[-0.125 -0.125] d:-0.09999999999999998 db:-1.000000\n",
      "Batch:325  Costo:0.250000 w:[-0.39293492 -0.48513304] dw:[0.125 0.125] d:0.9 db:1.000000\n",
      "Batch:326  Costo:0.250000 w:[-0.51793492 -0.61013304] dw:[-0.125 -0.125] d:-0.09999999999999998 db:-1.000000\n",
      "Batch:327  Costo:0.250000 w:[-0.39293492 -0.48513304] dw:[0.125 0.125] d:0.9 db:1.000000\n",
      "Batch:328  Costo:0.250000 w:[-0.51793492 -0.61013304] dw:[-0.125 -0.125] d:-0.09999999999999998 db:-1.000000\n",
      "Batch:329  Costo:0.250000 w:[-0.39293492 -0.48513304] dw:[0.125 0.125] d:0.9 db:1.000000\n",
      "Batch:330  Costo:0.250000 w:[-0.51793492 -0.61013304] dw:[-0.125 -0.125] d:-0.09999999999999998 db:-1.000000\n",
      "Batch:331  Costo:0.250000 w:[-0.39293492 -0.48513304] dw:[0.125 0.125] d:0.9 db:1.000000\n",
      "Batch:332  Costo:0.250000 w:[-0.51793492 -0.61013304] dw:[-0.125 -0.125] d:-0.09999999999999998 db:-1.000000\n",
      "Batch:333  Costo:0.250000 w:[-0.39293492 -0.48513304] dw:[0.125 0.125] d:0.9 db:1.000000\n",
      "Batch:334  Costo:0.250000 w:[-0.51793492 -0.61013304] dw:[-0.125 -0.125] d:-0.09999999999999998 db:-1.000000\n",
      "Batch:335  Costo:0.250000 w:[-0.39293492 -0.48513304] dw:[0.125 0.125] d:0.9 db:1.000000\n",
      "Batch:336  Costo:0.250000 w:[-0.51793492 -0.61013304] dw:[-0.125 -0.125] d:-0.09999999999999998 db:-1.000000\n",
      "Batch:337  Costo:0.250000 w:[-0.39293492 -0.48513304] dw:[0.125 0.125] d:0.9 db:1.000000\n",
      "Batch:338  Costo:0.250000 w:[-0.51793492 -0.61013304] dw:[-0.125 -0.125] d:-0.09999999999999998 db:-1.000000\n",
      "Batch:339  Costo:0.250000 w:[-0.39293492 -0.48513304] dw:[0.125 0.125] d:0.9 db:1.000000\n",
      "Batch:340  Costo:0.250000 w:[-0.51793492 -0.61013304] dw:[-0.125 -0.125] d:-0.09999999999999998 db:-1.000000\n",
      "Batch:341  Costo:0.250000 w:[-0.39293492 -0.48513304] dw:[0.125 0.125] d:0.9 db:1.000000\n",
      "Batch:342  Costo:0.250000 w:[-0.51793492 -0.61013304] dw:[-0.125 -0.125] d:-0.09999999999999998 db:-1.000000\n",
      "Batch:343  Costo:0.250000 w:[-0.39293492 -0.48513304] dw:[0.125 0.125] d:0.9 db:1.000000\n",
      "Batch:344  Costo:0.250000 w:[-0.51793492 -0.61013304] dw:[-0.125 -0.125] d:-0.09999999999999998 db:-1.000000\n",
      "Batch:345  Costo:0.250000 w:[-0.39293492 -0.48513304] dw:[0.125 0.125] d:0.9 db:1.000000\n",
      "Batch:346  Costo:0.250000 w:[-0.51793492 -0.61013304] dw:[-0.125 -0.125] d:-0.09999999999999998 db:-1.000000\n",
      "Batch:347  Costo:0.250000 w:[-0.39293492 -0.48513304] dw:[0.125 0.125] d:0.9 db:1.000000\n",
      "Batch:348  Costo:0.250000 w:[-0.51793492 -0.61013304] dw:[-0.125 -0.125] d:-0.09999999999999998 db:-1.000000\n",
      "Batch:349  Costo:0.250000 w:[-0.39293492 -0.48513304] dw:[0.125 0.125] d:0.9 db:1.000000\n",
      "Batch:350  Costo:0.250000 w:[-0.51793492 -0.61013304] dw:[-0.125 -0.125] d:-0.09999999999999998 db:-1.000000\n",
      "Batch:351  Costo:0.250000 w:[-0.39293492 -0.48513304] dw:[0.125 0.125] d:0.9 db:1.000000\n",
      "Batch:352  Costo:0.250000 w:[-0.51793492 -0.61013304] dw:[-0.125 -0.125] d:-0.09999999999999998 db:-1.000000\n",
      "Batch:353  Costo:0.250000 w:[-0.39293492 -0.48513304] dw:[0.125 0.125] d:0.9 db:1.000000\n",
      "Batch:354  Costo:0.250000 w:[-0.51793492 -0.61013304] dw:[-0.125 -0.125] d:-0.09999999999999998 db:-1.000000\n",
      "Batch:355  Costo:0.250000 w:[-0.39293492 -0.48513304] dw:[0.125 0.125] d:0.9 db:1.000000\n",
      "Batch:356  Costo:0.250000 w:[-0.51793492 -0.61013304] dw:[-0.125 -0.125] d:-0.09999999999999998 db:-1.000000\n",
      "Batch:357  Costo:0.250000 w:[-0.39293492 -0.48513304] dw:[0.125 0.125] d:0.9 db:1.000000\n",
      "Batch:358  Costo:0.250000 w:[-0.51793492 -0.61013304] dw:[-0.125 -0.125] d:-0.09999999999999998 db:-1.000000\n",
      "Batch:359  Costo:0.250000 w:[-0.39293492 -0.48513304] dw:[0.125 0.125] d:0.9 db:1.000000\n",
      "Batch:360  Costo:0.250000 w:[-0.51793492 -0.61013304] dw:[-0.125 -0.125] d:-0.09999999999999998 db:-1.000000\n",
      "Batch:361  Costo:0.250000 w:[-0.39293492 -0.48513304] dw:[0.125 0.125] d:0.9 db:1.000000\n",
      "Batch:362  Costo:0.250000 w:[-0.51793492 -0.61013304] dw:[-0.125 -0.125] d:-0.09999999999999998 db:-1.000000\n",
      "Batch:363  Costo:0.250000 w:[-0.39293492 -0.48513304] dw:[0.125 0.125] d:0.9 db:1.000000\n",
      "Batch:364  Costo:0.250000 w:[-0.51793492 -0.61013304] dw:[-0.125 -0.125] d:-0.09999999999999998 db:-1.000000\n",
      "Batch:365  Costo:0.250000 w:[-0.39293492 -0.48513304] dw:[0.125 0.125] d:0.9 db:1.000000\n",
      "Batch:366  Costo:0.250000 w:[-0.51793492 -0.61013304] dw:[-0.125 -0.125] d:-0.09999999999999998 db:-1.000000\n",
      "Batch:367  Costo:0.250000 w:[-0.39293492 -0.48513304] dw:[0.125 0.125] d:0.9 db:1.000000\n",
      "Batch:368  Costo:0.250000 w:[-0.51793492 -0.61013304] dw:[-0.125 -0.125] d:-0.09999999999999998 db:-1.000000\n",
      "Batch:369  Costo:0.250000 w:[-0.39293492 -0.48513304] dw:[0.125 0.125] d:0.9 db:1.000000\n",
      "Batch:370  Costo:0.250000 w:[-0.51793492 -0.61013304] dw:[-0.125 -0.125] d:-0.09999999999999998 db:-1.000000\n",
      "Batch:371  Costo:0.250000 w:[-0.39293492 -0.48513304] dw:[0.125 0.125] d:0.9 db:1.000000\n",
      "Batch:372  Costo:0.250000 w:[-0.51793492 -0.61013304] dw:[-0.125 -0.125] d:-0.09999999999999998 db:-1.000000\n",
      "Batch:373  Costo:0.250000 w:[-0.39293492 -0.48513304] dw:[0.125 0.125] d:0.9 db:1.000000\n",
      "Batch:374  Costo:0.250000 w:[-0.51793492 -0.61013304] dw:[-0.125 -0.125] d:-0.09999999999999998 db:-1.000000\n",
      "Batch:375  Costo:0.250000 w:[-0.39293492 -0.48513304] dw:[0.125 0.125] d:0.9 db:1.000000\n",
      "Batch:376  Costo:0.250000 w:[-0.51793492 -0.61013304] dw:[-0.125 -0.125] d:-0.09999999999999998 db:-1.000000\n",
      "Batch:377  Costo:0.250000 w:[-0.39293492 -0.48513304] dw:[0.125 0.125] d:0.9 db:1.000000\n",
      "Batch:378  Costo:0.250000 w:[-0.51793492 -0.61013304] dw:[-0.125 -0.125] d:-0.09999999999999998 db:-1.000000\n",
      "Batch:379  Costo:0.250000 w:[-0.39293492 -0.48513304] dw:[0.125 0.125] d:0.9 db:1.000000\n",
      "Batch:380  Costo:0.250000 w:[-0.51793492 -0.61013304] dw:[-0.125 -0.125] d:-0.09999999999999998 db:-1.000000\n",
      "Batch:381  Costo:0.250000 w:[-0.39293492 -0.48513304] dw:[0.125 0.125] d:0.9 db:1.000000\n",
      "Batch:382  Costo:0.250000 w:[-0.51793492 -0.61013304] dw:[-0.125 -0.125] d:-0.09999999999999998 db:-1.000000\n",
      "Batch:383  Costo:0.250000 w:[-0.39293492 -0.48513304] dw:[0.125 0.125] d:0.9 db:1.000000\n",
      "Batch:384  Costo:0.250000 w:[-0.51793492 -0.61013304] dw:[-0.125 -0.125] d:-0.09999999999999998 db:-1.000000\n",
      "Batch:385  Costo:0.250000 w:[-0.39293492 -0.48513304] dw:[0.125 0.125] d:0.9 db:1.000000\n",
      "Batch:386  Costo:0.250000 w:[-0.51793492 -0.61013304] dw:[-0.125 -0.125] d:-0.09999999999999998 db:-1.000000\n",
      "Batch:387  Costo:0.250000 w:[-0.39293492 -0.48513304] dw:[0.125 0.125] d:0.9 db:1.000000\n",
      "Batch:388  Costo:0.250000 w:[-0.51793492 -0.61013304] dw:[-0.125 -0.125] d:-0.09999999999999998 db:-1.000000\n",
      "Batch:389  Costo:0.250000 w:[-0.39293492 -0.48513304] dw:[0.125 0.125] d:0.9 db:1.000000\n",
      "Batch:390  Costo:0.250000 w:[-0.51793492 -0.61013304] dw:[-0.125 -0.125] d:-0.09999999999999998 db:-1.000000\n",
      "Batch:391  Costo:0.250000 w:[-0.39293492 -0.48513304] dw:[0.125 0.125] d:0.9 db:1.000000\n",
      "Batch:392  Costo:0.250000 w:[-0.51793492 -0.61013304] dw:[-0.125 -0.125] d:-0.09999999999999998 db:-1.000000\n",
      "Batch:393  Costo:0.250000 w:[-0.39293492 -0.48513304] dw:[0.125 0.125] d:0.9 db:1.000000\n",
      "Batch:394  Costo:0.250000 w:[-0.51793492 -0.61013304] dw:[-0.125 -0.125] d:-0.09999999999999998 db:-1.000000\n",
      "Batch:395  Costo:0.250000 w:[-0.39293492 -0.48513304] dw:[0.125 0.125] d:0.9 db:1.000000\n",
      "Batch:396  Costo:0.250000 w:[-0.51793492 -0.61013304] dw:[-0.125 -0.125] d:-0.09999999999999998 db:-1.000000\n",
      "Batch:397  Costo:0.250000 w:[-0.39293492 -0.48513304] dw:[0.125 0.125] d:0.9 db:1.000000\n",
      "Batch:398  Costo:0.250000 w:[-0.51793492 -0.61013304] dw:[-0.125 -0.125] d:-0.09999999999999998 db:-1.000000\n",
      "Batch:399  Costo:0.250000 w:[-0.39293492 -0.48513304] dw:[0.125 0.125] d:0.9 db:1.000000\n",
      "Batch:400  Costo:0.250000 w:[-0.51793492 -0.61013304] dw:[-0.125 -0.125] d:-0.09999999999999998 db:-1.000000\n",
      "Batch:401  Costo:0.250000 w:[-0.39293492 -0.48513304] dw:[0.125 0.125] d:0.9 db:1.000000\n",
      "Batch:402  Costo:0.250000 w:[-0.51793492 -0.61013304] dw:[-0.125 -0.125] d:-0.09999999999999998 db:-1.000000\n",
      "Batch:403  Costo:0.250000 w:[-0.39293492 -0.48513304] dw:[0.125 0.125] d:0.9 db:1.000000\n",
      "Batch:404  Costo:0.250000 w:[-0.51793492 -0.61013304] dw:[-0.125 -0.125] d:-0.09999999999999998 db:-1.000000\n",
      "Batch:405  Costo:0.250000 w:[-0.39293492 -0.48513304] dw:[0.125 0.125] d:0.9 db:1.000000\n",
      "Batch:406  Costo:0.250000 w:[-0.51793492 -0.61013304] dw:[-0.125 -0.125] d:-0.09999999999999998 db:-1.000000\n",
      "Batch:407  Costo:0.250000 w:[-0.39293492 -0.48513304] dw:[0.125 0.125] d:0.9 db:1.000000\n",
      "Batch:408  Costo:0.250000 w:[-0.51793492 -0.61013304] dw:[-0.125 -0.125] d:-0.09999999999999998 db:-1.000000\n",
      "Batch:409  Costo:0.250000 w:[-0.39293492 -0.48513304] dw:[0.125 0.125] d:0.9 db:1.000000\n",
      "Batch:410  Costo:0.250000 w:[-0.51793492 -0.61013304] dw:[-0.125 -0.125] d:-0.09999999999999998 db:-1.000000\n",
      "Batch:411  Costo:0.250000 w:[-0.39293492 -0.48513304] dw:[0.125 0.125] d:0.9 db:1.000000\n",
      "Batch:412  Costo:0.250000 w:[-0.51793492 -0.61013304] dw:[-0.125 -0.125] d:-0.09999999999999998 db:-1.000000\n",
      "Batch:413  Costo:0.250000 w:[-0.39293492 -0.48513304] dw:[0.125 0.125] d:0.9 db:1.000000\n",
      "Batch:414  Costo:0.250000 w:[-0.51793492 -0.61013304] dw:[-0.125 -0.125] d:-0.09999999999999998 db:-1.000000\n",
      "Batch:415  Costo:0.250000 w:[-0.39293492 -0.48513304] dw:[0.125 0.125] d:0.9 db:1.000000\n",
      "Batch:416  Costo:0.250000 w:[-0.51793492 -0.61013304] dw:[-0.125 -0.125] d:-0.09999999999999998 db:-1.000000\n",
      "Batch:417  Costo:0.250000 w:[-0.39293492 -0.48513304] dw:[0.125 0.125] d:0.9 db:1.000000\n",
      "Batch:418  Costo:0.250000 w:[-0.51793492 -0.61013304] dw:[-0.125 -0.125] d:-0.09999999999999998 db:-1.000000\n",
      "Batch:419  Costo:0.250000 w:[-0.39293492 -0.48513304] dw:[0.125 0.125] d:0.9 db:1.000000\n",
      "Batch:420  Costo:0.250000 w:[-0.51793492 -0.61013304] dw:[-0.125 -0.125] d:-0.09999999999999998 db:-1.000000\n",
      "Batch:421  Costo:0.250000 w:[-0.39293492 -0.48513304] dw:[0.125 0.125] d:0.9 db:1.000000\n",
      "Batch:422  Costo:0.250000 w:[-0.51793492 -0.61013304] dw:[-0.125 -0.125] d:-0.09999999999999998 db:-1.000000\n",
      "Batch:423  Costo:0.250000 w:[-0.39293492 -0.48513304] dw:[0.125 0.125] d:0.9 db:1.000000\n",
      "Batch:424  Costo:0.250000 w:[-0.51793492 -0.61013304] dw:[-0.125 -0.125] d:-0.09999999999999998 db:-1.000000\n",
      "Batch:425  Costo:0.250000 w:[-0.39293492 -0.48513304] dw:[0.125 0.125] d:0.9 db:1.000000\n",
      "Batch:426  Costo:0.250000 w:[-0.51793492 -0.61013304] dw:[-0.125 -0.125] d:-0.09999999999999998 db:-1.000000\n",
      "Batch:427  Costo:0.250000 w:[-0.39293492 -0.48513304] dw:[0.125 0.125] d:0.9 db:1.000000\n",
      "Batch:428  Costo:0.250000 w:[-0.51793492 -0.61013304] dw:[-0.125 -0.125] d:-0.09999999999999998 db:-1.000000\n",
      "Batch:429  Costo:0.250000 w:[-0.39293492 -0.48513304] dw:[0.125 0.125] d:0.9 db:1.000000\n",
      "Batch:430  Costo:0.250000 w:[-0.51793492 -0.61013304] dw:[-0.125 -0.125] d:-0.09999999999999998 db:-1.000000\n",
      "Batch:431  Costo:0.250000 w:[-0.39293492 -0.48513304] dw:[0.125 0.125] d:0.9 db:1.000000\n",
      "Batch:432  Costo:0.250000 w:[-0.51793492 -0.61013304] dw:[-0.125 -0.125] d:-0.09999999999999998 db:-1.000000\n",
      "Batch:433  Costo:0.250000 w:[-0.39293492 -0.48513304] dw:[0.125 0.125] d:0.9 db:1.000000\n",
      "Batch:434  Costo:0.250000 w:[-0.51793492 -0.61013304] dw:[-0.125 -0.125] d:-0.09999999999999998 db:-1.000000\n",
      "Batch:435  Costo:0.250000 w:[-0.39293492 -0.48513304] dw:[0.125 0.125] d:0.9 db:1.000000\n",
      "Batch:436  Costo:0.250000 w:[-0.51793492 -0.61013304] dw:[-0.125 -0.125] d:-0.09999999999999998 db:-1.000000\n",
      "Batch:437  Costo:0.250000 w:[-0.39293492 -0.48513304] dw:[0.125 0.125] d:0.9 db:1.000000\n",
      "Batch:438  Costo:0.250000 w:[-0.51793492 -0.61013304] dw:[-0.125 -0.125] d:-0.09999999999999998 db:-1.000000\n",
      "Batch:439  Costo:0.250000 w:[-0.39293492 -0.48513304] dw:[0.125 0.125] d:0.9 db:1.000000\n",
      "Batch:440  Costo:0.250000 w:[-0.51793492 -0.61013304] dw:[-0.125 -0.125] d:-0.09999999999999998 db:-1.000000\n",
      "Batch:441  Costo:0.250000 w:[-0.39293492 -0.48513304] dw:[0.125 0.125] d:0.9 db:1.000000\n",
      "Batch:442  Costo:0.250000 w:[-0.51793492 -0.61013304] dw:[-0.125 -0.125] d:-0.09999999999999998 db:-1.000000\n",
      "Batch:443  Costo:0.250000 w:[-0.39293492 -0.48513304] dw:[0.125 0.125] d:0.9 db:1.000000\n",
      "Batch:444  Costo:0.250000 w:[-0.51793492 -0.61013304] dw:[-0.125 -0.125] d:-0.09999999999999998 db:-1.000000\n",
      "Batch:445  Costo:0.250000 w:[-0.39293492 -0.48513304] dw:[0.125 0.125] d:0.9 db:1.000000\n",
      "Batch:446  Costo:0.250000 w:[-0.51793492 -0.61013304] dw:[-0.125 -0.125] d:-0.09999999999999998 db:-1.000000\n",
      "Batch:447  Costo:0.250000 w:[-0.39293492 -0.48513304] dw:[0.125 0.125] d:0.9 db:1.000000\n",
      "Batch:448  Costo:0.250000 w:[-0.51793492 -0.61013304] dw:[-0.125 -0.125] d:-0.09999999999999998 db:-1.000000\n",
      "Batch:449  Costo:0.250000 w:[-0.39293492 -0.48513304] dw:[0.125 0.125] d:0.9 db:1.000000\n",
      "Batch:450  Costo:0.250000 w:[-0.51793492 -0.61013304] dw:[-0.125 -0.125] d:-0.09999999999999998 db:-1.000000\n",
      "Batch:451  Costo:0.250000 w:[-0.39293492 -0.48513304] dw:[0.125 0.125] d:0.9 db:1.000000\n",
      "Batch:452  Costo:0.250000 w:[-0.51793492 -0.61013304] dw:[-0.125 -0.125] d:-0.09999999999999998 db:-1.000000\n",
      "Batch:453  Costo:0.250000 w:[-0.39293492 -0.48513304] dw:[0.125 0.125] d:0.9 db:1.000000\n",
      "Batch:454  Costo:0.250000 w:[-0.51793492 -0.61013304] dw:[-0.125 -0.125] d:-0.09999999999999998 db:-1.000000\n",
      "Batch:455  Costo:0.250000 w:[-0.39293492 -0.48513304] dw:[0.125 0.125] d:0.9 db:1.000000\n",
      "Batch:456  Costo:0.250000 w:[-0.51793492 -0.61013304] dw:[-0.125 -0.125] d:-0.09999999999999998 db:-1.000000\n",
      "Batch:457  Costo:0.250000 w:[-0.39293492 -0.48513304] dw:[0.125 0.125] d:0.9 db:1.000000\n",
      "Batch:458  Costo:0.250000 w:[-0.51793492 -0.61013304] dw:[-0.125 -0.125] d:-0.09999999999999998 db:-1.000000\n",
      "Batch:459  Costo:0.250000 w:[-0.39293492 -0.48513304] dw:[0.125 0.125] d:0.9 db:1.000000\n",
      "Batch:460  Costo:0.250000 w:[-0.51793492 -0.61013304] dw:[-0.125 -0.125] d:-0.09999999999999998 db:-1.000000\n",
      "Batch:461  Costo:0.250000 w:[-0.39293492 -0.48513304] dw:[0.125 0.125] d:0.9 db:1.000000\n",
      "Batch:462  Costo:0.250000 w:[-0.51793492 -0.61013304] dw:[-0.125 -0.125] d:-0.09999999999999998 db:-1.000000\n",
      "Batch:463  Costo:0.250000 w:[-0.39293492 -0.48513304] dw:[0.125 0.125] d:0.9 db:1.000000\n",
      "Batch:464  Costo:0.250000 w:[-0.51793492 -0.61013304] dw:[-0.125 -0.125] d:-0.09999999999999998 db:-1.000000\n",
      "Batch:465  Costo:0.250000 w:[-0.39293492 -0.48513304] dw:[0.125 0.125] d:0.9 db:1.000000\n",
      "Batch:466  Costo:0.250000 w:[-0.51793492 -0.61013304] dw:[-0.125 -0.125] d:-0.09999999999999998 db:-1.000000\n",
      "Batch:467  Costo:0.250000 w:[-0.39293492 -0.48513304] dw:[0.125 0.125] d:0.9 db:1.000000\n",
      "Batch:468  Costo:0.250000 w:[-0.51793492 -0.61013304] dw:[-0.125 -0.125] d:-0.09999999999999998 db:-1.000000\n",
      "Batch:469  Costo:0.250000 w:[-0.39293492 -0.48513304] dw:[0.125 0.125] d:0.9 db:1.000000\n",
      "Batch:470  Costo:0.250000 w:[-0.51793492 -0.61013304] dw:[-0.125 -0.125] d:-0.09999999999999998 db:-1.000000\n",
      "Batch:471  Costo:0.250000 w:[-0.39293492 -0.48513304] dw:[0.125 0.125] d:0.9 db:1.000000\n",
      "Batch:472  Costo:0.250000 w:[-0.51793492 -0.61013304] dw:[-0.125 -0.125] d:-0.09999999999999998 db:-1.000000\n",
      "Batch:473  Costo:0.250000 w:[-0.39293492 -0.48513304] dw:[0.125 0.125] d:0.9 db:1.000000\n",
      "Batch:474  Costo:0.250000 w:[-0.51793492 -0.61013304] dw:[-0.125 -0.125] d:-0.09999999999999998 db:-1.000000\n",
      "Batch:475  Costo:0.250000 w:[-0.39293492 -0.48513304] dw:[0.125 0.125] d:0.9 db:1.000000\n",
      "Batch:476  Costo:0.250000 w:[-0.51793492 -0.61013304] dw:[-0.125 -0.125] d:-0.09999999999999998 db:-1.000000\n",
      "Batch:477  Costo:0.250000 w:[-0.39293492 -0.48513304] dw:[0.125 0.125] d:0.9 db:1.000000\n",
      "Batch:478  Costo:0.250000 w:[-0.51793492 -0.61013304] dw:[-0.125 -0.125] d:-0.09999999999999998 db:-1.000000\n",
      "Batch:479  Costo:0.250000 w:[-0.39293492 -0.48513304] dw:[0.125 0.125] d:0.9 db:1.000000\n",
      "Batch:480  Costo:0.250000 w:[-0.51793492 -0.61013304] dw:[-0.125 -0.125] d:-0.09999999999999998 db:-1.000000\n",
      "Batch:481  Costo:0.250000 w:[-0.39293492 -0.48513304] dw:[0.125 0.125] d:0.9 db:1.000000\n",
      "Batch:482  Costo:0.250000 w:[-0.51793492 -0.61013304] dw:[-0.125 -0.125] d:-0.09999999999999998 db:-1.000000\n",
      "Batch:483  Costo:0.250000 w:[-0.39293492 -0.48513304] dw:[0.125 0.125] d:0.9 db:1.000000\n",
      "Batch:484  Costo:0.250000 w:[-0.51793492 -0.61013304] dw:[-0.125 -0.125] d:-0.09999999999999998 db:-1.000000\n",
      "Batch:485  Costo:0.250000 w:[-0.39293492 -0.48513304] dw:[0.125 0.125] d:0.9 db:1.000000\n",
      "Batch:486  Costo:0.250000 w:[-0.51793492 -0.61013304] dw:[-0.125 -0.125] d:-0.09999999999999998 db:-1.000000\n",
      "Batch:487  Costo:0.250000 w:[-0.39293492 -0.48513304] dw:[0.125 0.125] d:0.9 db:1.000000\n",
      "Batch:488  Costo:0.250000 w:[-0.51793492 -0.61013304] dw:[-0.125 -0.125] d:-0.09999999999999998 db:-1.000000\n",
      "Batch:489  Costo:0.250000 w:[-0.39293492 -0.48513304] dw:[0.125 0.125] d:0.9 db:1.000000\n",
      "Batch:490  Costo:0.250000 w:[-0.51793492 -0.61013304] dw:[-0.125 -0.125] d:-0.09999999999999998 db:-1.000000\n",
      "Batch:491  Costo:0.250000 w:[-0.39293492 -0.48513304] dw:[0.125 0.125] d:0.9 db:1.000000\n",
      "Batch:492  Costo:0.250000 w:[-0.51793492 -0.61013304] dw:[-0.125 -0.125] d:-0.09999999999999998 db:-1.000000\n",
      "Batch:493  Costo:0.250000 w:[-0.39293492 -0.48513304] dw:[0.125 0.125] d:0.9 db:1.000000\n",
      "Batch:494  Costo:0.250000 w:[-0.51793492 -0.61013304] dw:[-0.125 -0.125] d:-0.09999999999999998 db:-1.000000\n",
      "Batch:495  Costo:0.250000 w:[-0.39293492 -0.48513304] dw:[0.125 0.125] d:0.9 db:1.000000\n",
      "Batch:496  Costo:0.250000 w:[-0.51793492 -0.61013304] dw:[-0.125 -0.125] d:-0.09999999999999998 db:-1.000000\n",
      "Batch:497  Costo:0.250000 w:[-0.39293492 -0.48513304] dw:[0.125 0.125] d:0.9 db:1.000000\n",
      "Batch:498  Costo:0.250000 w:[-0.51793492 -0.61013304] dw:[-0.125 -0.125] d:-0.09999999999999998 db:-1.000000\n",
      "Batch:499  Costo:0.250000 w:[-0.39293492 -0.48513304] dw:[0.125 0.125] d:0.9 db:1.000000\n",
      "Batch:500  Costo:0.250000 w:[-0.51793492 -0.61013304] dw:[-0.125 -0.125] d:-0.09999999999999998 db:-1.000000\n"
     ]
    },
    {
     "data": {
      "image/png": "[encoded data removed]",
      "text/plain": [
       "<Figure size 432x288 with 1 Axes>"
      ]
     },
     "metadata": {
      "needs_background": "light"
     },
     "output_type": "display_data"
    }
   ],
   "source": [
    "#w = np.array([0,0])\n",
    "w = np.random.uniform(-1,1, size=2)\n",
    "b = -0.1\n",
    "nu = 0.5\n",
    "max_iteraciones = 500\n",
    "\n",
    "batch_size = 1\n",
    "grad, b2, j_hist = grad_decent(x, y, w, b, nu, max_iteraciones, batch_size)"
   ]
  },
  {
   "cell_type": "code",
   "execution_count": null,
   "id": "87074c9d-7df6-4cc2-85aa-a5f52e60af72",
   "metadata": {},
   "outputs": [],
   "source": []
  }
 ],
 "metadata": {
  "kernelspec": {
   "display_name": "Python 3 (ipykernel)",
   "language": "python",
   "name": "python3"
  },
  "language_info": {
   "codemirror_mode": {
    "name": "ipython",
    "version": 3
   },
   "file_extension": ".py",
   "mimetype": "text/x-python",
   "name": "python",
   "nbconvert_exporter": "python",
   "pygments_lexer": "ipython3",
   "version": "3.9.7"
  }
 },
 "nbformat": 4,
 "nbformat_minor": 5
}
